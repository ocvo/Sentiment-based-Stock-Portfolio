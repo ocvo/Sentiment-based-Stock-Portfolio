{
 "cells": [
  {
   "cell_type": "code",
   "execution_count": 1,
   "id": "c9e73d82",
   "metadata": {
    "ExecuteTime": {
     "end_time": "2021-10-17T11:00:57.202162Z",
     "start_time": "2021-10-17T11:00:55.855412Z"
    }
   },
   "outputs": [],
   "source": [
    "import os\n",
    "import gc\n",
    "import pandas as pd\n",
    "from tqdm.notebook import tqdm\n",
    "from vaderSentiment.vaderSentiment import SentimentIntensityAnalyzer\n",
    "from nltk.tokenize import word_tokenize\n",
    "from nltk import pos_tag\n",
    "from nltk.corpus import stopwords, wordnet\n",
    "from nltk.stem import WordNetLemmatizer\n",
    "from nltk.corpus import sentiwordnet as swn\n",
    "import matplotlib.pyplot as plt\n",
    "import re"
   ]
  },
  {
   "cell_type": "code",
   "execution_count": 2,
   "id": "90b04f58",
   "metadata": {
    "ExecuteTime": {
     "end_time": "2021-10-17T11:01:00.228815Z",
     "start_time": "2021-10-17T11:01:00.211813Z"
    }
   },
   "outputs": [],
   "source": [
    "path_news = './stock/au/politicals_au/'\n",
    "list_file_news = [os.path.join(path_news, filename) for filename in os.listdir(path_news) if os.path.isfile(os.path.join(path_news, filename))]"
   ]
  },
  {
   "cell_type": "code",
   "execution_count": 3,
   "id": "f7ec3212",
   "metadata": {
    "ExecuteTime": {
     "end_time": "2021-10-17T11:01:16.788452Z",
     "start_time": "2021-10-17T11:01:16.781453Z"
    }
   },
   "outputs": [],
   "source": [
    "def vader_sentiment_article(list_word):\n",
    "#     list_word = text.replace('\\t', ' ').replace('\\n', ' ').split(' ')\n",
    "    df_list_word = pd.DataFrame(list_word, columns=['words'])\n",
    "    \n",
    "    analyzer = SentimentIntensityAnalyzer()\n",
    "    df_list_word['vader_analysis'] = df_list_word['words'].apply(analyzer.polarity_scores)\n",
    "    df_list_word['pos'] = df_list_word['vader_analysis'].apply(lambda x: x['pos'])\n",
    "    df_list_word['neg'] = df_list_word['vader_analysis'].apply(lambda x: x['neg'])\n",
    "    \n",
    "    sum_diff = (df_list_word['pos'] - df_list_word['neg']).sum()\n",
    "    if sum_diff < 0:\n",
    "        return -1\n",
    "    if sum_diff > 0:\n",
    "        return 1\n",
    "    return 0\n",
    "\n",
    "def make_sentiment_features(df):\n",
    "    print(df.shape)\n",
    "    df['article_concat_split'] = df['article_title'].apply(lambda x: x.replace('\\t', ' ').replace('\\n', ' ').split(' '))\n",
    "    df['vader_sentiment'] = df['article_concat_split'].apply(vader_sentiment_article)\n",
    "    df['vader_sentiment_pos'] = (df['vader_sentiment'] > 0).astype('int')\n",
    "    df['vader_sentiment_neg'] = (df['vader_sentiment'] < 0).astype('int')\n",
    "    \n",
    "#     df['lm_sentiment'] = df['article_concat_split'].apply(lm_sentiment_article)\n",
    "#     df['lm_sentiment_pos'] = (df['lm_sentiment'] > 0).astype('int')\n",
    "#     df['lm_sentiment_neg'] = (df['lm_sentiment'] < 0).astype('int')\n",
    "    \n",
    "    return df\n",
    "\n",
    "def daily_sentiment_score(pos_num, neg_num):\n",
    "    if pos_num > neg_num:\n",
    "        return 2 * pos_num / (pos_num + neg_num) - 1\n",
    "    \n",
    "    if pos_num < neg_num:\n",
    "        return 1 - 2  * neg_num / (pos_num + neg_num)\n",
    "\n",
    "    return 0"
   ]
  },
  {
   "cell_type": "code",
   "execution_count": 4,
   "id": "f4f83696",
   "metadata": {
    "ExecuteTime": {
     "end_time": "2021-10-17T11:06:06.913955Z",
     "start_time": "2021-10-17T11:01:47.134844Z"
    }
   },
   "outputs": [
    {
     "data": {
      "application/vnd.jupyter.widget-view+json": {
       "model_id": "77a3f507e33040cebce17d4e4844af07",
       "version_major": 2,
       "version_minor": 0
      },
      "text/plain": [
       "  0%|          | 0/16 [00:00<?, ?it/s]"
      ]
     },
     "metadata": {},
     "output_type": "display_data"
    },
    {
     "name": "stdout",
     "output_type": "stream",
     "text": [
      "(2, 2)\n",
      "(8, 2)\n",
      "(13, 2)\n",
      "(7, 2)\n",
      "(59, 2)\n",
      "(35, 2)\n",
      "(61, 2)\n",
      "(1920, 2)\n",
      "(3887, 2)\n",
      "(3837, 2)\n",
      "(3895, 2)\n",
      "(3599, 2)\n",
      "(3351, 2)\n",
      "(3183, 2)\n",
      "(3071, 2)\n",
      "(1963, 2)\n"
     ]
    }
   ],
   "source": [
    "df = None\n",
    "filter_start_time = '2005-01-01'\n",
    "\n",
    "for file in tqdm(list_file_news):\n",
    "    basename = os.path.basename(file)\n",
    "    os.path.splitext(basename)\n",
    "    file_name, file_extension = os.path.splitext(basename)\n",
    "    if file_extension != '.csv':\n",
    "        continue\n",
    "        \n",
    "    df_news = pd.read_csv(file, header=None)\n",
    "    df_news.columns = ['article_title', 'time']\n",
    "    df_news['Date'] = pd.to_datetime(df_news['time'])\n",
    "    df_news = df_news[df_news['Date'] >= filter_start_time]\n",
    "    \n",
    "    if len(df_news) == 0:\n",
    "        continue\n",
    "    \n",
    "    df_news.drop_duplicates(subset=['Date', 'article_title'], keep='first', inplace=True)\n",
    "    df_news.drop('time', axis=1, inplace=True)\n",
    "    \n",
    "    df_news = df_news[['Date', 'article_title']]\n",
    "\n",
    "    df_news = make_sentiment_features(df_news)\n",
    "    \n",
    "    if df is None:\n",
    "        df = df_news.copy()\n",
    "    else:\n",
    "        df = pd.concat([df, df_news], axis=0)\n",
    "    \n",
    "    del df_news\n",
    "    gc.collect()"
   ]
  },
  {
   "cell_type": "code",
   "execution_count": 5,
   "id": "13b3d995",
   "metadata": {
    "ExecuteTime": {
     "end_time": "2021-10-17T11:06:13.492177Z",
     "start_time": "2021-10-17T11:06:13.470178Z"
    }
   },
   "outputs": [
    {
     "data": {
      "text/html": [
       "<div>\n",
       "<style scoped>\n",
       "    .dataframe tbody tr th:only-of-type {\n",
       "        vertical-align: middle;\n",
       "    }\n",
       "\n",
       "    .dataframe tbody tr th {\n",
       "        vertical-align: top;\n",
       "    }\n",
       "\n",
       "    .dataframe thead th {\n",
       "        text-align: right;\n",
       "    }\n",
       "</style>\n",
       "<table border=\"1\" class=\"dataframe\">\n",
       "  <thead>\n",
       "    <tr style=\"text-align: right;\">\n",
       "      <th></th>\n",
       "      <th>Date</th>\n",
       "      <th>article_title</th>\n",
       "      <th>article_concat_split</th>\n",
       "      <th>vader_sentiment</th>\n",
       "      <th>vader_sentiment_pos</th>\n",
       "      <th>vader_sentiment_neg</th>\n",
       "    </tr>\n",
       "  </thead>\n",
       "  <tbody>\n",
       "    <tr>\n",
       "      <th>0</th>\n",
       "      <td>2005-02-22</td>\n",
       "      <td>After a word in his ear, minister finds son</td>\n",
       "      <td>[After, a, word, in, his, ear,, minister, find...</td>\n",
       "      <td>0</td>\n",
       "      <td>0</td>\n",
       "      <td>0</td>\n",
       "    </tr>\n",
       "    <tr>\n",
       "      <th>1</th>\n",
       "      <td>2005-01-19</td>\n",
       "      <td>Labor leader quits politics</td>\n",
       "      <td>[Labor, leader, quits, politics]</td>\n",
       "      <td>0</td>\n",
       "      <td>0</td>\n",
       "      <td>0</td>\n",
       "    </tr>\n",
       "    <tr>\n",
       "      <th>0</th>\n",
       "      <td>2007-08-19</td>\n",
       "      <td>Strip club visit hurts Australian party leader</td>\n",
       "      <td>[Strip, club, visit, hurts, Australian, party,...</td>\n",
       "      <td>0</td>\n",
       "      <td>0</td>\n",
       "      <td>0</td>\n",
       "    </tr>\n",
       "    <tr>\n",
       "      <th>1</th>\n",
       "      <td>2007-12-01</td>\n",
       "      <td>Rudd sets date for Iraq pull-out</td>\n",
       "      <td>[Rudd, sets, date, for, Iraq, pull-out]</td>\n",
       "      <td>0</td>\n",
       "      <td>0</td>\n",
       "      <td>0</td>\n",
       "    </tr>\n",
       "    <tr>\n",
       "      <th>2</th>\n",
       "      <td>2007-11-18</td>\n",
       "      <td>Australia's ballot goes to the wire</td>\n",
       "      <td>[Australia's, ballot, goes, to, the, wire]</td>\n",
       "      <td>0</td>\n",
       "      <td>0</td>\n",
       "      <td>0</td>\n",
       "    </tr>\n",
       "  </tbody>\n",
       "</table>\n",
       "</div>"
      ],
      "text/plain": [
       "        Date                                   article_title  \\\n",
       "0 2005-02-22     After a word in his ear, minister finds son   \n",
       "1 2005-01-19                     Labor leader quits politics   \n",
       "0 2007-08-19  Strip club visit hurts Australian party leader   \n",
       "1 2007-12-01                Rudd sets date for Iraq pull-out   \n",
       "2 2007-11-18             Australia's ballot goes to the wire   \n",
       "\n",
       "                                article_concat_split  vader_sentiment  \\\n",
       "0  [After, a, word, in, his, ear,, minister, find...                0   \n",
       "1                   [Labor, leader, quits, politics]                0   \n",
       "0  [Strip, club, visit, hurts, Australian, party,...                0   \n",
       "1            [Rudd, sets, date, for, Iraq, pull-out]                0   \n",
       "2         [Australia's, ballot, goes, to, the, wire]                0   \n",
       "\n",
       "   vader_sentiment_pos  vader_sentiment_neg  \n",
       "0                    0                    0  \n",
       "1                    0                    0  \n",
       "0                    0                    0  \n",
       "1                    0                    0  \n",
       "2                    0                    0  "
      ]
     },
     "execution_count": 5,
     "metadata": {},
     "output_type": "execute_result"
    }
   ],
   "source": [
    "df.head()"
   ]
  },
  {
   "cell_type": "code",
   "execution_count": 6,
   "id": "4b6fb03c",
   "metadata": {
    "ExecuteTime": {
     "end_time": "2021-10-17T11:06:52.555008Z",
     "start_time": "2021-10-17T11:06:52.496581Z"
    }
   },
   "outputs": [
    {
     "data": {
      "text/html": [
       "<div>\n",
       "<style scoped>\n",
       "    .dataframe tbody tr th:only-of-type {\n",
       "        vertical-align: middle;\n",
       "    }\n",
       "\n",
       "    .dataframe tbody tr th {\n",
       "        vertical-align: top;\n",
       "    }\n",
       "\n",
       "    .dataframe thead th {\n",
       "        text-align: right;\n",
       "    }\n",
       "</style>\n",
       "<table border=\"1\" class=\"dataframe\">\n",
       "  <thead>\n",
       "    <tr style=\"text-align: right;\">\n",
       "      <th></th>\n",
       "      <th>Date</th>\n",
       "      <th>political_daily_sentiment_score_vader</th>\n",
       "    </tr>\n",
       "  </thead>\n",
       "  <tbody>\n",
       "    <tr>\n",
       "      <th>0</th>\n",
       "      <td>2005-01-19</td>\n",
       "      <td>0.0</td>\n",
       "    </tr>\n",
       "    <tr>\n",
       "      <th>1</th>\n",
       "      <td>2005-02-22</td>\n",
       "      <td>0.0</td>\n",
       "    </tr>\n",
       "    <tr>\n",
       "      <th>2</th>\n",
       "      <td>2007-08-19</td>\n",
       "      <td>0.0</td>\n",
       "    </tr>\n",
       "    <tr>\n",
       "      <th>3</th>\n",
       "      <td>2007-11-18</td>\n",
       "      <td>0.0</td>\n",
       "    </tr>\n",
       "    <tr>\n",
       "      <th>4</th>\n",
       "      <td>2007-11-23</td>\n",
       "      <td>0.0</td>\n",
       "    </tr>\n",
       "  </tbody>\n",
       "</table>\n",
       "</div>"
      ],
      "text/plain": [
       "        Date  political_daily_sentiment_score_vader\n",
       "0 2005-01-19                                    0.0\n",
       "1 2005-02-22                                    0.0\n",
       "2 2007-08-19                                    0.0\n",
       "3 2007-11-18                                    0.0\n",
       "4 2007-11-23                                    0.0"
      ]
     },
     "execution_count": 6,
     "metadata": {},
     "output_type": "execute_result"
    }
   ],
   "source": [
    "df_sentiment = df.groupby(['Date']) \\\n",
    "    .agg(vader_sentiment_pos=('vader_sentiment_pos', 'sum'), \n",
    "         vader_sentiment_neg=('vader_sentiment_neg', 'sum'),) \\\n",
    "    .reset_index()\n",
    "\n",
    "df_sentiment['political_daily_sentiment_score_vader'] = df_sentiment \\\n",
    "    .apply(lambda x: daily_sentiment_score(x['vader_sentiment_pos'], x['vader_sentiment_neg']), axis=1)\n",
    "\n",
    "df_sentiment[['Date', 'political_daily_sentiment_score_vader']].head()"
   ]
  },
  {
   "cell_type": "code",
   "execution_count": 7,
   "id": "980485eb",
   "metadata": {
    "ExecuteTime": {
     "end_time": "2021-10-17T11:07:06.956795Z",
     "start_time": "2021-10-17T11:07:06.915581Z"
    }
   },
   "outputs": [],
   "source": [
    "df_sentiment[['Date', 'political_daily_sentiment_score_vader']] \\\n",
    "    .to_csv('./exported_data/news_sentiment_analysis/au_political_news_sentiment_analysis.csv', index=False)"
   ]
  }
 ],
 "metadata": {
  "kernelspec": {
   "display_name": "Python 3",
   "language": "python",
   "name": "python3"
  },
  "language_info": {
   "codemirror_mode": {
    "name": "ipython",
    "version": 3
   },
   "file_extension": ".py",
   "mimetype": "text/x-python",
   "name": "python",
   "nbconvert_exporter": "python",
   "pygments_lexer": "ipython3",
   "version": "3.9.4"
  },
  "toc": {
   "base_numbering": 1,
   "nav_menu": {},
   "number_sections": true,
   "sideBar": true,
   "skip_h1_title": false,
   "title_cell": "Table of Contents",
   "title_sidebar": "Contents",
   "toc_cell": false,
   "toc_position": {},
   "toc_section_display": true,
   "toc_window_display": false
  }
 },
 "nbformat": 4,
 "nbformat_minor": 5
}
