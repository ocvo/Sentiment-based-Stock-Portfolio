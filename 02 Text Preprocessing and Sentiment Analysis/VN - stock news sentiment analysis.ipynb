{
 "cells": [
  {
   "cell_type": "code",
   "execution_count": 1,
   "id": "f98b6f2a",
   "metadata": {
    "ExecuteTime": {
     "end_time": "2021-11-04T04:09:25.411647Z",
     "start_time": "2021-11-04T04:09:24.123135Z"
    }
   },
   "outputs": [],
   "source": [
    "import os\n",
    "import gc\n",
    "import pandas as pd\n",
    "from tqdm.notebook import tqdm\n",
    "from vaderSentiment.vaderSentiment import SentimentIntensityAnalyzer\n",
    "from nltk.tokenize import word_tokenize\n",
    "from nltk import pos_tag\n",
    "from nltk.corpus import stopwords, wordnet\n",
    "from nltk.stem import WordNetLemmatizer\n",
    "from nltk.corpus import sentiwordnet as swn\n",
    "import matplotlib.pyplot as plt\n",
    "import re\n",
    "import numpy as np"
   ]
  },
  {
   "cell_type": "code",
   "execution_count": 2,
   "id": "9072559b",
   "metadata": {
    "ExecuteTime": {
     "end_time": "2021-11-04T04:09:25.427647Z",
     "start_time": "2021-11-04T04:09:25.412649Z"
    }
   },
   "outputs": [],
   "source": [
    "path_news = './stock/vn/business_news_en2/'\n",
    "list_file_news = [os.path.join(path_news, filename) for filename in os.listdir(path_news) if os.path.isfile(os.path.join(path_news, filename))]"
   ]
  },
  {
   "cell_type": "code",
   "execution_count": 3,
   "id": "67e3bd4b",
   "metadata": {
    "ExecuteTime": {
     "end_time": "2021-11-04T04:09:26.510041Z",
     "start_time": "2021-11-04T04:09:26.491010Z"
    }
   },
   "outputs": [],
   "source": [
    "list_vn30 = pd.read_csv('list_vn_hsx30.csv')['symbol'].unique()"
   ]
  },
  {
   "cell_type": "code",
   "execution_count": 4,
   "id": "c3f119d7",
   "metadata": {
    "ExecuteTime": {
     "end_time": "2021-11-04T04:09:28.035188Z",
     "start_time": "2021-11-04T04:09:28.018189Z"
    }
   },
   "outputs": [
    {
     "data": {
      "text/plain": [
       "array(['ACB', 'BID', 'BVH', 'CTG', 'FPT', 'GAS', 'GVR', 'HDB', 'HPG',\n",
       "       'KDH', 'MBB', 'MSN', 'MWG', 'NVL', 'PDR', 'PLX', 'PNJ', 'POW',\n",
       "       'SAB', 'SSI', 'STB', 'TCB', 'TPB', 'VCB', 'VHM', 'VIC', 'VJC',\n",
       "       'VNM', 'VPB', 'VRE'], dtype=object)"
      ]
     },
     "execution_count": 4,
     "metadata": {},
     "output_type": "execute_result"
    }
   ],
   "source": [
    "list_vn30"
   ]
  },
  {
   "cell_type": "code",
   "execution_count": 20,
   "id": "c93ee0e3",
   "metadata": {
    "ExecuteTime": {
     "end_time": "2021-09-15T15:57:06.004380Z",
     "start_time": "2021-09-15T15:57:05.995882Z"
    }
   },
   "outputs": [],
   "source": [
    "# def pos_tag_text(text):\n",
    "#     stop_words = set(stopwords.words('english'))\n",
    "#     pos_dict = {\n",
    "#         'J' : wordnet.ADJ, \n",
    "#         'V' : wordnet.VERB, \n",
    "#         'N' : wordnet.NOUN, \n",
    "#         'R' : wordnet.ADV\n",
    "#     }\n",
    "\n",
    "#     text = re.sub('[^A-Za-z]+', ' ', text)\n",
    "#     token = word_tokenize(text.lower())\n",
    "#     words_list = [w for w in token if not w in stop_words]\n",
    "#     pos_tagged = pos_tag(words_list)\n",
    "#     pos_data = [(w, pos_dict.get(p[0])) for w, p in pos_tagged]\n",
    "    \n",
    "#     return pos_data"
   ]
  },
  {
   "cell_type": "code",
   "execution_count": 21,
   "id": "38c8aa73",
   "metadata": {
    "ExecuteTime": {
     "end_time": "2021-09-15T15:57:06.661385Z",
     "start_time": "2021-09-15T15:57:06.655899Z"
    }
   },
   "outputs": [],
   "source": [
    "# def lemmatize_text(pos_data):\n",
    "#     wordnet_lemmatizer = WordNetLemmatizer()\n",
    "#     lemma_rew = \" \"\n",
    "#     for word, pos in pos_data:\n",
    "#         if pos is None:\n",
    "#             lemma = word\n",
    "#             lemma_rew = lemma_rew + \" \" + lemma\n",
    "#         else:\n",
    "#             lemma = wordnet_lemmatizer.lemmatize(word, pos=pos)\n",
    "#             lemma_rew = lemma_rew + \" \" + lemma\n",
    "            \n",
    "#     return lemma_rew.strip()"
   ]
  },
  {
   "cell_type": "code",
   "execution_count": 22,
   "id": "4f657006",
   "metadata": {
    "ExecuteTime": {
     "end_time": "2021-09-15T15:57:07.407899Z",
     "start_time": "2021-09-15T15:57:07.402239Z"
    }
   },
   "outputs": [],
   "source": [
    "# def sentiwordnet_analysis(pos_data):\n",
    "#     wordnet_lemmatizer = WordNetLemmatizer()\n",
    "#     tokens_count = 0\n",
    "#     score_pos = 0\n",
    "#     score_neg = 0\n",
    "#     score_obj = 0\n",
    "#     for word, pos in pos_data:\n",
    "#         if not pos:\n",
    "#             continue\n",
    "            \n",
    "#         lemma = wordnet_lemmatizer.lemmatize(word, pos=pos)\n",
    "#         if not lemma:\n",
    "#             continue\n",
    "        \n",
    "#         synsets = wordnet.synsets(lemma, pos=pos)\n",
    "#         if not synsets:\n",
    "#             continue\n",
    "            \n",
    "#         # Take the first sense, the most common\n",
    "#         synset = synsets[0]\n",
    "#         swn_synset = swn.senti_synset(synset.name())\n",
    "        \n",
    "#         score_pos += swn_synset.pos_score()\n",
    "#         score_neg += swn_synset.neg_score()\n",
    "#         score_obj += swn_synset.obj_score()\n",
    "        \n",
    "#         tokens_count += 1\n",
    "    \n",
    "#     score_total = score_pos - score_neg\n",
    "    \n",
    "#     return (score_pos, score_neg, score_obj, score_total)"
   ]
  },
  {
   "cell_type": "code",
   "execution_count": 5,
   "id": "35ba7949",
   "metadata": {
    "ExecuteTime": {
     "end_time": "2021-11-04T04:09:32.131722Z",
     "start_time": "2021-11-04T04:09:32.101693Z"
    }
   },
   "outputs": [],
   "source": [
    "lm_negative = pd.read_csv('lm_negative.csv', header=None)[0].tolist()\n",
    "lm_negative = {word.lower() : -1 for word in lm_negative}\n",
    "\n",
    "lm_positive = pd.read_csv('lm_positive.csv', header=None)[0].tolist()\n",
    "lm_positive = {word.lower() : 1 for word in lm_positive}\n",
    "\n",
    "def negated(word):\n",
    "    \"\"\"\n",
    "    Determine if preceding word is a negation word\n",
    "    \"\"\"\n",
    "    negate = [\"aint\", \"arent\", \"cannot\", \"cant\", \"couldnt\", \"darent\", \"didnt\", \"doesnt\", \"ain't\", \"aren't\", \"can't\",\n",
    "              \"couldn't\", \"daren't\", \"didn't\", \"doesn't\", \"dont\", \"hadnt\", \"hasnt\", \"havent\", \"isnt\", \"mightnt\", \"mustnt\",\n",
    "              \"neither\", \"don't\", \"hadn't\", \"hasn't\", \"haven't\", \"isn't\", \"mightn't\", \"mustn't\", \"neednt\", \"needn't\",\n",
    "              \"never\", \"none\", \"nope\", \"nor\", \"not\", \"nothing\", \"nowhere\", \"oughtnt\", \"shant\", \"shouldnt\", \"wasnt\",\n",
    "              \"werent\", \"oughtn't\", \"shan't\", \"shouldn't\", \"wasn't\", \"weren't\", \"without\", \"wont\", \"wouldnt\", \"won't\",\n",
    "              \"wouldn't\", \"rarely\", \"seldom\", \"despite\", \"no\", \"nobody\"]\n",
    "    \n",
    "    if word.lower() in negate:\n",
    "        return True\n",
    "    else:\n",
    "        return False\n",
    "\n",
    "def lm_analysis(text):\n",
    "    pos_count = 0\n",
    "    neg_count = 0\n",
    "    input_words = re.findall(r'\\b([a-zA-Z]+n\\'t|[a-zA-Z]+\\'s|[a-zA-Z]+)\\b', text.lower())\n",
    "    word_count = len(input_words)\n",
    "\n",
    "    for i in range(0, word_count):\n",
    "        if input_words[i] in lm_negative:\n",
    "            neg_count += 1\n",
    "\n",
    "        if input_words[i] in lm_positive:\n",
    "            if i >= 3:\n",
    "                if negated(input_words[i - 1]) or negated(input_words[i - 2]) or negated(input_words[i - 3]):\n",
    "                    neg_count += 1\n",
    "                else:\n",
    "                    pos_count += 1\n",
    "            elif i == 2:\n",
    "                if negated(input_words[i - 1]) or negated(input_words[i - 2]):\n",
    "                    neg_count += 1\n",
    "                else:\n",
    "                    pos_count += 1\n",
    "            elif i == 1:\n",
    "                if negated(input_words[i - 1]):\n",
    "                    neg_count += 1\n",
    "                else:\n",
    "                    pos_count += 1\n",
    "            elif i == 0:\n",
    "                pos_count += 1\n",
    "    \n",
    "    if pos_count + neg_count > 0:\n",
    "        polarity = (pos_count - neg_count) / (pos_count + neg_count)\n",
    "    else:\n",
    "        polarity = 0\n",
    "    \n",
    "    subjectivity = (pos_count + neg_count) / word_count if word_count > 0 else 0\n",
    "    pos_rate = pos_count / word_count if word_count > 0 else 0\n",
    "    neg_rate = neg_count / word_count if word_count > 0 else 0\n",
    "    \n",
    "    return {'Positive' : pos_rate, \n",
    "            'Negative' : neg_rate, \n",
    "            'Polarity' : polarity, \n",
    "            'Subjectivity' : subjectivity}\n",
    "\n",
    "def lm_sentiment_article(list_word):\n",
    "#     list_word = text.replace('\\t', ' ').replace('\\n', ' ').split(' ')\n",
    "    df_list_word = pd.DataFrame(list_word, columns=['words'])\n",
    "    df_list_word['lm_analysis'] = df_list_word['words'].apply(lm_analysis)\n",
    "    df_list_word['pos'] = df_list_word['lm_analysis'].apply(lambda x: x['Positive'])\n",
    "    df_list_word['neg'] = df_list_word['lm_analysis'].apply(lambda x: x['Negative'])\n",
    "    sum_diff = (df_list_word['pos'] - df_list_word['neg']).sum()\n",
    "    if sum_diff < 0:\n",
    "        return -1\n",
    "    if sum_diff > 0:\n",
    "        return 1\n",
    "    return 0\n",
    "\n",
    "def vader_sentiment_article(list_word):\n",
    "#     list_word = text.replace('\\t', ' ').replace('\\n', ' ').split(' ')\n",
    "    df_list_word = pd.DataFrame(list_word, columns=['words'])\n",
    "    \n",
    "    analyzer = SentimentIntensityAnalyzer()\n",
    "    df_list_word['vader_analysis'] = df_list_word['words'].apply(analyzer.polarity_scores)\n",
    "    df_list_word['pos'] = df_list_word['vader_analysis'].apply(lambda x: x['pos'])\n",
    "    df_list_word['neg'] = df_list_word['vader_analysis'].apply(lambda x: x['neg'])\n",
    "    \n",
    "    sum_diff = (df_list_word['pos'] - df_list_word['neg']).sum()\n",
    "    if sum_diff < 0:\n",
    "        return -1\n",
    "    if sum_diff > 0:\n",
    "        return 1\n",
    "    return 0"
   ]
  },
  {
   "cell_type": "code",
   "execution_count": 6,
   "id": "8b086a72",
   "metadata": {
    "ExecuteTime": {
     "end_time": "2021-11-04T04:09:33.478145Z",
     "start_time": "2021-11-04T04:09:33.472144Z"
    }
   },
   "outputs": [],
   "source": [
    "def make_sentiment_features(df):\n",
    "    print(df.shape)\n",
    "    df['article_concat_en_split'] = df['article_concat_en'].apply(lambda x: x.replace('\\t', ' ').replace('\\n', ' ').split(' '))\n",
    "    df['vader_sentiment'] = df['article_concat_en_split'].apply(vader_sentiment_article)\n",
    "    df['vader_sentiment_pos'] = (df['vader_sentiment'] > 0).astype('int')\n",
    "    df['vader_sentiment_neg'] = (df['vader_sentiment'] < 0).astype('int')\n",
    "    \n",
    "    df['lm_sentiment'] = df['article_concat_en_split'].apply(lm_sentiment_article)\n",
    "    df['lm_sentiment_pos'] = (df['lm_sentiment'] > 0).astype('int')\n",
    "    df['lm_sentiment_neg'] = (df['lm_sentiment'] < 0).astype('int')\n",
    "    \n",
    "#     df['stock_news_vader_neg'] = df.apply(lambda x: analyzer.polarity_scores(x['article_concat'])['neg'], axis=1)\n",
    "#     df['stock_news_vader_pos'] = df.apply(lambda x: analyzer.polarity_scores(x['article_concat'])['pos'], axis=1)\n",
    "#     df['stock_news_vader_neu'] = df.apply(lambda x: analyzer.polarity_scores(x['article_concat'])['neu'], axis=1)\n",
    "#     df['stock_news_vader_compound'] = df.apply(lambda x: analyzer.polarity_scores(x['article_concat'])['compound'], axis=1)\n",
    "    \n",
    "#     df['stock_news_wordnet_pos'] = df.apply(lambda x: sentiwordnet_analysis(x['article_concat_pos_tag'])[0], axis=1)\n",
    "#     df['stock_news_wordnet_neg'] = df.apply(lambda x: sentiwordnet_analysis(x['article_concat_pos_tag'])[1], axis=1)\n",
    "#     df['stock_news_wordnet_obj'] = df.apply(lambda x: sentiwordnet_analysis(x['article_concat_pos_tag'])[2], axis=1)\n",
    "#     df['stock_news_wordnet_total'] = df.apply(lambda x: sentiwordnet_analysis(x['article_concat_pos_tag'])[3], axis=1)\n",
    "    \n",
    "#     df['stock_news_lm_dict'] = df.apply(lambda x: lm_analysis(x['article_concat']), axis=1)\n",
    "#     df['stock_news_lm_pos'] = df.apply(lambda x: x['stock_news_lm_dict']['Positive'], axis=1)\n",
    "#     df['stock_news_lm_neg'] = df.apply(lambda x: x['stock_news_lm_dict']['Negative'], axis=1)\n",
    "#     df['stock_news_lm_polar'] = df.apply(lambda x: x['stock_news_lm_dict']['Polarity'], axis=1)\n",
    "#     df['stock_news_lm_subject'] = df.apply(lambda x: x['stock_news_lm_dict']['Subjectivity'], axis=1)\n",
    "    \n",
    "#     df.drop('stock_news_lm_dict', axis=1, inplace=True)\n",
    "    return df"
   ]
  },
  {
   "cell_type": "code",
   "execution_count": 7,
   "id": "6e1c6f86",
   "metadata": {
    "ExecuteTime": {
     "end_time": "2021-11-04T04:09:34.515476Z",
     "start_time": "2021-11-04T04:09:34.507774Z"
    }
   },
   "outputs": [],
   "source": [
    "def daily_sentiment_score(pos_num, neg_num):\n",
    "    if pos_num > neg_num:\n",
    "        return 2 * pos_num / (pos_num + neg_num) - 1\n",
    "    \n",
    "    if pos_num < neg_num:\n",
    "        return 1 - 2  * neg_num / (pos_num + neg_num)\n",
    "\n",
    "    return 0"
   ]
  },
  {
   "cell_type": "code",
   "execution_count": 8,
   "id": "2c7c1e79",
   "metadata": {
    "ExecuteTime": {
     "end_time": "2021-11-04T04:14:09.048109Z",
     "start_time": "2021-11-04T04:09:37.801186Z"
    },
    "scrolled": true
   },
   "outputs": [
    {
     "data": {
      "application/vnd.jupyter.widget-view+json": {
       "model_id": "3337d40f691147579958fedcf4b05f9b",
       "version_major": 2,
       "version_minor": 0
      },
      "text/plain": [
       "  0%|          | 0/30 [00:00<?, ?it/s]"
      ]
     },
     "metadata": {},
     "output_type": "display_data"
    },
    {
     "name": "stdout",
     "output_type": "stream",
     "text": [
      "start processing file ACB.csv\n",
      "(1033, 6)\n",
      "start processing file BID.csv\n",
      "(1729, 6)\n",
      "start processing file BVH.csv\n",
      "(459, 6)\n",
      "start processing file CTG.csv\n",
      "(1570, 6)\n",
      "start processing file FPT.csv\n",
      "(723, 6)\n",
      "start processing file GAS.csv\n",
      "(1027, 6)\n",
      "start processing file GVR.csv\n",
      "(10, 6)\n",
      "start processing file HDB.csv\n",
      "(927, 6)\n",
      "start processing file HPG.csv\n",
      "(1287, 6)\n",
      "start processing file KDH.csv\n",
      "(315, 6)\n",
      "start processing file MBB.csv\n",
      "(965, 6)\n",
      "start processing file MSN.csv\n",
      "(1041, 6)\n",
      "start processing file MWG.csv\n",
      "(615, 6)\n",
      "start processing file NVL.csv\n",
      "(758, 6)\n",
      "start processing file PDR.csv\n",
      "(267, 6)\n",
      "start processing file PLX.csv\n",
      "(684, 6)\n",
      "start processing file PNJ.csv\n",
      "(539, 6)\n",
      "start processing file POW.csv\n",
      "(577, 6)\n",
      "start processing file SAB.csv\n",
      "(766, 6)\n",
      "start processing file SSI.csv\n",
      "(1035, 6)\n",
      "start processing file STB.csv\n",
      "(1158, 6)\n",
      "start processing file TCB.csv\n",
      "(1094, 6)\n",
      "start processing file TPB.csv\n",
      "(8, 6)\n",
      "start processing file VCB.csv\n",
      "(2215, 6)\n",
      "start processing file VHM.csv\n",
      "(1433, 6)\n",
      "start processing file VIC.csv\n",
      "(1604, 6)\n",
      "start processing file VJC.csv\n",
      "(734, 6)\n",
      "start processing file VNM.csv\n",
      "(1530, 6)\n",
      "start processing file VPB.csv\n",
      "(1188, 6)\n",
      "start processing file VRE.csv\n",
      "(882, 6)\n"
     ]
    }
   ],
   "source": [
    "df = None\n",
    "filter_start_time = '2009-06-01'\n",
    "\n",
    "for file in tqdm(list_file_news):\n",
    "    basename = os.path.basename(file)\n",
    "    os.path.splitext(basename)\n",
    "    file_name, file_extension = os.path.splitext(basename)\n",
    "    if file_extension != '.csv':\n",
    "        continue\n",
    "    \n",
    "    if file_name not in list_vn30:\n",
    "        continue\n",
    "    \n",
    "    print(f'start processing file {basename}')\n",
    "\n",
    "    df_news = pd.read_csv(file)\n",
    "    \n",
    "    if 'article_concat_en' not in df_news.columns:\n",
    "        df_news['article_concat_en'] = df_news['article_title'] + ' ' + df_news['article_abstract']\n",
    "\n",
    "    df_news['Date'] = pd.to_datetime(df_news['Date'])\n",
    "    df_news = make_sentiment_features(df_news)\n",
    "\n",
    "    if df is None:\n",
    "        df = df_news.copy()\n",
    "    else:\n",
    "        df = pd.concat([df, df_news], axis=0)"
   ]
  },
  {
   "cell_type": "code",
   "execution_count": 9,
   "id": "1a577c2b",
   "metadata": {
    "ExecuteTime": {
     "end_time": "2021-11-04T04:21:11.175722Z",
     "start_time": "2021-11-04T04:21:11.150706Z"
    }
   },
   "outputs": [
    {
     "data": {
      "text/html": [
       "<div>\n",
       "<style scoped>\n",
       "    .dataframe tbody tr th:only-of-type {\n",
       "        vertical-align: middle;\n",
       "    }\n",
       "\n",
       "    .dataframe tbody tr th {\n",
       "        vertical-align: top;\n",
       "    }\n",
       "\n",
       "    .dataframe thead th {\n",
       "        text-align: right;\n",
       "    }\n",
       "</style>\n",
       "<table border=\"1\" class=\"dataframe\">\n",
       "  <thead>\n",
       "    <tr style=\"text-align: right;\">\n",
       "      <th></th>\n",
       "      <th>symbol</th>\n",
       "      <th>Date</th>\n",
       "      <th>article_title</th>\n",
       "      <th>article_abstract</th>\n",
       "      <th>article_concat</th>\n",
       "      <th>article_concat_en</th>\n",
       "      <th>article_concat_en_split</th>\n",
       "      <th>vader_sentiment</th>\n",
       "      <th>vader_sentiment_pos</th>\n",
       "      <th>vader_sentiment_neg</th>\n",
       "      <th>lm_sentiment</th>\n",
       "      <th>lm_sentiment_pos</th>\n",
       "      <th>lm_sentiment_neg</th>\n",
       "    </tr>\n",
       "  </thead>\n",
       "  <tbody>\n",
       "    <tr>\n",
       "      <th>0</th>\n",
       "      <td>ACB</td>\n",
       "      <td>2021-12-08</td>\n",
       "      <td>Vietstock Daily 13/08: Tiếp tục điều chỉnh...</td>\n",
       "      <td>-  Daily 13/08: Tiếp tục điều chỉnh nhưng rủi...</td>\n",
       "      <td>Vietstock Daily 13/08: Tiếp tục điều chỉnh...</td>\n",
       "      <td>Vietstock Daily 13/08: Continue to adjust but ...</td>\n",
       "      <td>[Vietstock, Daily, 13/08:, Continue, to, adjus...</td>\n",
       "      <td>-1</td>\n",
       "      <td>0</td>\n",
       "      <td>1</td>\n",
       "      <td>-1</td>\n",
       "      <td>0</td>\n",
       "      <td>1</td>\n",
       "    </tr>\n",
       "    <tr>\n",
       "      <th>1</th>\n",
       "      <td>ACB</td>\n",
       "      <td>2021-12-08</td>\n",
       "      <td>Nhịp đập Thị trường 12/08: Mở cửa sớm phân hóa</td>\n",
       "      <td>- Nhịp đập Thị trường 12/08: Mở cửa sớm phân ...</td>\n",
       "      <td>Nhịp đập Thị trường 12/08: Mở cửa sớm phân hóa...</td>\n",
       "      <td>Beats The market 12/08: Opening soon divide - ...</td>\n",
       "      <td>[Beats, The, market, 12/08:, Opening, soon, di...</td>\n",
       "      <td>1</td>\n",
       "      <td>1</td>\n",
       "      <td>0</td>\n",
       "      <td>-1</td>\n",
       "      <td>0</td>\n",
       "      <td>1</td>\n",
       "    </tr>\n",
       "    <tr>\n",
       "      <th>2</th>\n",
       "      <td>ACB</td>\n",
       "      <td>2021-11-08</td>\n",
       "      <td>Nhân viên ngân hàng có thu nhập ra sao trong n...</td>\n",
       "      <td>- Nhân viên ngân hàng có thu nhập ra sao tron...</td>\n",
       "      <td>Nhân viên ngân hàng có thu nhập ra sao trong n...</td>\n",
       "      <td>Bank employees have income in the first half o...</td>\n",
       "      <td>[Bank, employees, have, income, in, the, first...</td>\n",
       "      <td>0</td>\n",
       "      <td>0</td>\n",
       "      <td>0</td>\n",
       "      <td>0</td>\n",
       "      <td>0</td>\n",
       "      <td>0</td>\n",
       "    </tr>\n",
       "    <tr>\n",
       "      <th>3</th>\n",
       "      <td>ACB</td>\n",
       "      <td>2021-11-08</td>\n",
       "      <td>Tỷ lệ nợ xấu một số ngân hàng tăng cao kỷ lục,...</td>\n",
       "      <td>Theo Dong Hai  – Trong bối cảnh tình hình dịch...</td>\n",
       "      <td>Tỷ lệ nợ xấu một số ngân hàng tăng cao kỷ lục,...</td>\n",
       "      <td>The rate of bad debt a number of banks increas...</td>\n",
       "      <td>[The, rate, of, bad, debt, a, number, of, bank...</td>\n",
       "      <td>-1</td>\n",
       "      <td>0</td>\n",
       "      <td>1</td>\n",
       "      <td>-1</td>\n",
       "      <td>0</td>\n",
       "      <td>1</td>\n",
       "    </tr>\n",
       "    <tr>\n",
       "      <th>4</th>\n",
       "      <td>ACB</td>\n",
       "      <td>2021-10-08</td>\n",
       "      <td>Một số ngân hàng tiếp tục giảm nhẹ lãi suất hu...</td>\n",
       "      <td>- Một số ngân hàng tiếp tục giảm nhẹ lãi suất...</td>\n",
       "      <td>Một số ngân hàng tiếp tục giảm nhẹ lãi suất hu...</td>\n",
       "      <td>A number of banks continued to decline slightl...</td>\n",
       "      <td>[A, number, of, banks, continued, to, decline,...</td>\n",
       "      <td>1</td>\n",
       "      <td>1</td>\n",
       "      <td>0</td>\n",
       "      <td>-1</td>\n",
       "      <td>0</td>\n",
       "      <td>1</td>\n",
       "    </tr>\n",
       "  </tbody>\n",
       "</table>\n",
       "</div>"
      ],
      "text/plain": [
       "  symbol       Date                                      article_title  \\\n",
       "0    ACB 2021-12-08  Vietstock Daily 13/08: Tiếp tục điều chỉnh...   \n",
       "1    ACB 2021-12-08     Nhịp đập Thị trường 12/08: Mở cửa sớm phân hóa   \n",
       "2    ACB 2021-11-08  Nhân viên ngân hàng có thu nhập ra sao trong n...   \n",
       "3    ACB 2021-11-08  Tỷ lệ nợ xấu một số ngân hàng tăng cao kỷ lục,...   \n",
       "4    ACB 2021-10-08  Một số ngân hàng tiếp tục giảm nhẹ lãi suất hu...   \n",
       "\n",
       "                                    article_abstract  \\\n",
       "0   -  Daily 13/08: Tiếp tục điều chỉnh nhưng rủi...   \n",
       "1   - Nhịp đập Thị trường 12/08: Mở cửa sớm phân ...   \n",
       "2   - Nhân viên ngân hàng có thu nhập ra sao tron...   \n",
       "3  Theo Dong Hai  – Trong bối cảnh tình hình dịch...   \n",
       "4   - Một số ngân hàng tiếp tục giảm nhẹ lãi suất...   \n",
       "\n",
       "                                      article_concat  \\\n",
       "0  Vietstock Daily 13/08: Tiếp tục điều chỉnh...   \n",
       "1  Nhịp đập Thị trường 12/08: Mở cửa sớm phân hóa...   \n",
       "2  Nhân viên ngân hàng có thu nhập ra sao trong n...   \n",
       "3  Tỷ lệ nợ xấu một số ngân hàng tăng cao kỷ lục,...   \n",
       "4  Một số ngân hàng tiếp tục giảm nhẹ lãi suất hu...   \n",
       "\n",
       "                                   article_concat_en  \\\n",
       "0  Vietstock Daily 13/08: Continue to adjust but ...   \n",
       "1  Beats The market 12/08: Opening soon divide - ...   \n",
       "2  Bank employees have income in the first half o...   \n",
       "3  The rate of bad debt a number of banks increas...   \n",
       "4  A number of banks continued to decline slightl...   \n",
       "\n",
       "                             article_concat_en_split  vader_sentiment  \\\n",
       "0  [Vietstock, Daily, 13/08:, Continue, to, adjus...               -1   \n",
       "1  [Beats, The, market, 12/08:, Opening, soon, di...                1   \n",
       "2  [Bank, employees, have, income, in, the, first...                0   \n",
       "3  [The, rate, of, bad, debt, a, number, of, bank...               -1   \n",
       "4  [A, number, of, banks, continued, to, decline,...                1   \n",
       "\n",
       "   vader_sentiment_pos  vader_sentiment_neg  lm_sentiment  lm_sentiment_pos  \\\n",
       "0                    0                    1            -1                 0   \n",
       "1                    1                    0            -1                 0   \n",
       "2                    0                    0             0                 0   \n",
       "3                    0                    1            -1                 0   \n",
       "4                    1                    0            -1                 0   \n",
       "\n",
       "   lm_sentiment_neg  \n",
       "0                 1  \n",
       "1                 1  \n",
       "2                 0  \n",
       "3                 1  \n",
       "4                 1  "
      ]
     },
     "execution_count": 9,
     "metadata": {},
     "output_type": "execute_result"
    }
   ],
   "source": [
    "df.head()"
   ]
  },
  {
   "cell_type": "code",
   "execution_count": 11,
   "id": "bdeea42a",
   "metadata": {
    "ExecuteTime": {
     "end_time": "2021-11-04T04:21:40.010081Z",
     "start_time": "2021-11-04T04:21:39.669944Z"
    }
   },
   "outputs": [],
   "source": [
    "df[['symbol', 'Date', 'vader_sentiment', 'vader_sentiment_pos', 'vader_sentiment_neg', \n",
    "    'lm_sentiment', 'lm_sentiment_pos', 'lm_sentiment_neg']] \\\n",
    "    .to_csv('./exported_data/news_sentiment_analysis/vn_stock_news_sentiment_analysis_rawdata.csv', index=False)"
   ]
  },
  {
   "cell_type": "code",
   "execution_count": 12,
   "id": "9081cbae",
   "metadata": {
    "ExecuteTime": {
     "end_time": "2021-11-04T04:21:51.917099Z",
     "start_time": "2021-11-04T04:21:51.883362Z"
    }
   },
   "outputs": [
    {
     "data": {
      "text/html": [
       "<div>\n",
       "<style scoped>\n",
       "    .dataframe tbody tr th:only-of-type {\n",
       "        vertical-align: middle;\n",
       "    }\n",
       "\n",
       "    .dataframe tbody tr th {\n",
       "        vertical-align: top;\n",
       "    }\n",
       "\n",
       "    .dataframe thead th {\n",
       "        text-align: right;\n",
       "    }\n",
       "</style>\n",
       "<table border=\"1\" class=\"dataframe\">\n",
       "  <thead>\n",
       "    <tr style=\"text-align: right;\">\n",
       "      <th></th>\n",
       "      <th>vader_sentiment</th>\n",
       "      <th>vader_sentiment_pos</th>\n",
       "      <th>vader_sentiment_neg</th>\n",
       "      <th>lm_sentiment</th>\n",
       "      <th>lm_sentiment_pos</th>\n",
       "      <th>lm_sentiment_neg</th>\n",
       "    </tr>\n",
       "  </thead>\n",
       "  <tbody>\n",
       "    <tr>\n",
       "      <th>count</th>\n",
       "      <td>28173.000000</td>\n",
       "      <td>28173.000000</td>\n",
       "      <td>28173.000000</td>\n",
       "      <td>28173.000000</td>\n",
       "      <td>28173.000000</td>\n",
       "      <td>28173.000000</td>\n",
       "    </tr>\n",
       "    <tr>\n",
       "      <th>mean</th>\n",
       "      <td>0.387854</td>\n",
       "      <td>0.580236</td>\n",
       "      <td>0.192383</td>\n",
       "      <td>-0.458169</td>\n",
       "      <td>0.007809</td>\n",
       "      <td>0.465978</td>\n",
       "    </tr>\n",
       "    <tr>\n",
       "      <th>std</th>\n",
       "      <td>0.788803</td>\n",
       "      <td>0.493529</td>\n",
       "      <td>0.394179</td>\n",
       "      <td>0.513690</td>\n",
       "      <td>0.088024</td>\n",
       "      <td>0.498850</td>\n",
       "    </tr>\n",
       "    <tr>\n",
       "      <th>min</th>\n",
       "      <td>-1.000000</td>\n",
       "      <td>0.000000</td>\n",
       "      <td>0.000000</td>\n",
       "      <td>-1.000000</td>\n",
       "      <td>0.000000</td>\n",
       "      <td>0.000000</td>\n",
       "    </tr>\n",
       "    <tr>\n",
       "      <th>25%</th>\n",
       "      <td>0.000000</td>\n",
       "      <td>0.000000</td>\n",
       "      <td>0.000000</td>\n",
       "      <td>-1.000000</td>\n",
       "      <td>0.000000</td>\n",
       "      <td>0.000000</td>\n",
       "    </tr>\n",
       "    <tr>\n",
       "      <th>50%</th>\n",
       "      <td>1.000000</td>\n",
       "      <td>1.000000</td>\n",
       "      <td>0.000000</td>\n",
       "      <td>0.000000</td>\n",
       "      <td>0.000000</td>\n",
       "      <td>0.000000</td>\n",
       "    </tr>\n",
       "    <tr>\n",
       "      <th>75%</th>\n",
       "      <td>1.000000</td>\n",
       "      <td>1.000000</td>\n",
       "      <td>0.000000</td>\n",
       "      <td>0.000000</td>\n",
       "      <td>0.000000</td>\n",
       "      <td>1.000000</td>\n",
       "    </tr>\n",
       "    <tr>\n",
       "      <th>max</th>\n",
       "      <td>1.000000</td>\n",
       "      <td>1.000000</td>\n",
       "      <td>1.000000</td>\n",
       "      <td>1.000000</td>\n",
       "      <td>1.000000</td>\n",
       "      <td>1.000000</td>\n",
       "    </tr>\n",
       "  </tbody>\n",
       "</table>\n",
       "</div>"
      ],
      "text/plain": [
       "       vader_sentiment  vader_sentiment_pos  vader_sentiment_neg  \\\n",
       "count     28173.000000         28173.000000         28173.000000   \n",
       "mean          0.387854             0.580236             0.192383   \n",
       "std           0.788803             0.493529             0.394179   \n",
       "min          -1.000000             0.000000             0.000000   \n",
       "25%           0.000000             0.000000             0.000000   \n",
       "50%           1.000000             1.000000             0.000000   \n",
       "75%           1.000000             1.000000             0.000000   \n",
       "max           1.000000             1.000000             1.000000   \n",
       "\n",
       "       lm_sentiment  lm_sentiment_pos  lm_sentiment_neg  \n",
       "count  28173.000000      28173.000000      28173.000000  \n",
       "mean      -0.458169          0.007809          0.465978  \n",
       "std        0.513690          0.088024          0.498850  \n",
       "min       -1.000000          0.000000          0.000000  \n",
       "25%       -1.000000          0.000000          0.000000  \n",
       "50%        0.000000          0.000000          0.000000  \n",
       "75%        0.000000          0.000000          1.000000  \n",
       "max        1.000000          1.000000          1.000000  "
      ]
     },
     "execution_count": 12,
     "metadata": {},
     "output_type": "execute_result"
    }
   ],
   "source": [
    "df.describe()"
   ]
  },
  {
   "cell_type": "code",
   "execution_count": 13,
   "id": "233cf5fb",
   "metadata": {
    "ExecuteTime": {
     "end_time": "2021-11-04T04:21:58.967962Z",
     "start_time": "2021-11-04T04:21:58.957962Z"
    }
   },
   "outputs": [
    {
     "data": {
      "text/plain": [
       "vader_sentiment        10927\n",
       "vader_sentiment_pos    16347\n",
       "vader_sentiment_neg     5420\n",
       "lm_sentiment          -12908\n",
       "lm_sentiment_pos         220\n",
       "lm_sentiment_neg       13128\n",
       "dtype: int64"
      ]
     },
     "execution_count": 13,
     "metadata": {},
     "output_type": "execute_result"
    }
   ],
   "source": [
    "df[['vader_sentiment', 'vader_sentiment_pos', 'vader_sentiment_neg', \n",
    "    'lm_sentiment', 'lm_sentiment_pos', 'lm_sentiment_neg']].sum(axis=0)"
   ]
  },
  {
   "cell_type": "code",
   "execution_count": 14,
   "id": "a76e1ca8",
   "metadata": {
    "ExecuteTime": {
     "end_time": "2021-11-04T04:22:06.834062Z",
     "start_time": "2021-11-04T04:22:06.570063Z"
    }
   },
   "outputs": [
    {
     "data": {
      "image/png": "[encoded data removed]",
      "text/plain": [
       "<Figure size 1080x360 with 2 Axes>"
      ]
     },
     "metadata": {
      "needs_background": "light"
     },
     "output_type": "display_data"
    }
   ],
   "source": [
    "plt.figure(figsize = (15,5))\n",
    "plt.subplot(131)\n",
    "plt.hist(df['vader_sentiment'], \n",
    "         50, \n",
    "         color = 'r', \n",
    "         edgecolor = 'black',\n",
    "         alpha=0.75,)\n",
    "plt.xlabel('Sentiment score')\n",
    "plt.title('Vader Sentiment')\n",
    "plt.grid(True)\n",
    "plt.subplot(132)\n",
    "plt.hist(df['lm_sentiment'], \n",
    "         50, \n",
    "         color='g',\n",
    "         edgecolor = 'black', \n",
    "         alpha=0.75,)\n",
    "plt.xlabel('Sentiment score')\n",
    "plt.title('LM sentiment')\n",
    "# plt.grid(True)\n",
    "# plt.subplot(133)\n",
    "# plt.hist(pd.concat([data.compound,data.s_compound]), \n",
    "#          50, \n",
    "#          color='g',\n",
    "#          edgecolor = 'black', \n",
    "#          alpha=0.75)\n",
    "# plt.xlabel('Compound Score')\n",
    "# plt.title('Political News and Stock News')\n",
    "plt.grid(True)\n",
    "plt.show()"
   ]
  },
  {
   "cell_type": "code",
   "execution_count": null,
   "id": "80c1eb3f",
   "metadata": {},
   "outputs": [],
   "source": []
  },
  {
   "cell_type": "code",
   "execution_count": 10,
   "id": "9b977aa8",
   "metadata": {},
   "outputs": [
    {
     "data": {
      "image/png": "[encoded data removed]",
      "text/plain": [
       "<Figure size 1080x360 with 3 Axes>"
      ]
     },
     "metadata": {
      "needs_background": "light"
     },
     "output_type": "display_data"
    }
   ],
   "source": [
    "plt.figure(figsize = (15,5))\n",
    "plt.subplot(131)\n",
    "plt.hist(df['stock_news_vader_neg'], \n",
    "         50, \n",
    "         color = 'r', \n",
    "         edgecolor = 'black',\n",
    "         alpha=0.75,)\n",
    "plt.xlabel('Negative Score')\n",
    "plt.title('Stock News')\n",
    "plt.grid(True)\n",
    "plt.subplot(132)\n",
    "plt.hist(df['stock_news_vader_pos'], \n",
    "         50, \n",
    "         color='g',\n",
    "         edgecolor = 'black', \n",
    "         alpha=0.75,)\n",
    "plt.xlabel('Positive Score')\n",
    "plt.title('Stock News')\n",
    "plt.grid(True)\n",
    "plt.subplot(133)\n",
    "plt.hist(df['stock_news_vader_compound'], \n",
    "         50, \n",
    "         color='b',\n",
    "         edgecolor = 'black', \n",
    "         alpha=0.75)\n",
    "plt.xlabel('Compound Score')\n",
    "plt.title('Stock News')\n",
    "plt.grid(True)\n",
    "plt.show()"
   ]
  },
  {
   "cell_type": "code",
   "execution_count": 11,
   "id": "e10665c8",
   "metadata": {},
   "outputs": [
    {
     "data": {
      "image/png": "[encoded data removed]",
      "text/plain": [
       "<Figure size 1080x360 with 3 Axes>"
      ]
     },
     "metadata": {
      "needs_background": "light"
     },
     "output_type": "display_data"
    }
   ],
   "source": [
    "plt.figure(figsize = (15,5))\n",
    "plt.subplot(131)\n",
    "plt.hist(df['stock_news_wordnet_neg'], \n",
    "         50, \n",
    "         color = 'r', \n",
    "         edgecolor = 'black',\n",
    "         alpha=0.75,)\n",
    "plt.xlabel('Negative Score')\n",
    "plt.title('Stock News')\n",
    "plt.grid(True)\n",
    "plt.subplot(132)\n",
    "plt.hist(df['stock_news_wordnet_pos'], \n",
    "         50, \n",
    "         color='g',\n",
    "         edgecolor = 'black', \n",
    "         alpha=0.75,)\n",
    "plt.xlabel('Positive Score')\n",
    "plt.title('Stock News')\n",
    "plt.grid(True)\n",
    "plt.subplot(133)\n",
    "plt.hist(df['stock_news_wordnet_total'], \n",
    "         50, \n",
    "         color='b',\n",
    "         edgecolor = 'black', \n",
    "         alpha=0.75)\n",
    "plt.xlabel('Compound Score')\n",
    "plt.title('Stock News')\n",
    "plt.grid(True)\n",
    "plt.show()"
   ]
  },
  {
   "cell_type": "code",
   "execution_count": 11,
   "id": "b49595d6",
   "metadata": {
    "ExecuteTime": {
     "end_time": "2021-10-17T10:33:23.250648Z",
     "start_time": "2021-10-17T10:33:23.225500Z"
    }
   },
   "outputs": [
    {
     "name": "stdout",
     "output_type": "stream",
     "text": [
      "<class 'pandas.core.frame.DataFrame'>\n",
      "Int64Index: 28173 entries, 0 to 881\n",
      "Data columns (total 13 columns):\n",
      " #   Column                   Non-Null Count  Dtype         \n",
      "---  ------                   --------------  -----         \n",
      " 0   symbol                   28173 non-null  object        \n",
      " 1   Date                     28173 non-null  datetime64[ns]\n",
      " 2   article_title            28173 non-null  object        \n",
      " 3   article_abstract         28173 non-null  object        \n",
      " 4   article_concat           28173 non-null  object        \n",
      " 5   article_concat_en        28173 non-null  object        \n",
      " 6   article_concat_en_split  28173 non-null  object        \n",
      " 7   vader_sentiment          28173 non-null  int64         \n",
      " 8   vader_sentiment_pos      28173 non-null  int32         \n",
      " 9   vader_sentiment_neg      28173 non-null  int32         \n",
      " 10  lm_sentiment             28173 non-null  int64         \n",
      " 11  lm_sentiment_pos         28173 non-null  int32         \n",
      " 12  lm_sentiment_neg         28173 non-null  int32         \n",
      "dtypes: datetime64[ns](1), int32(4), int64(2), object(6)\n",
      "memory usage: 2.6+ MB\n"
     ]
    }
   ],
   "source": [
    "df.info()"
   ]
  },
  {
   "cell_type": "code",
   "execution_count": 12,
   "id": "d459f397",
   "metadata": {
    "ExecuteTime": {
     "end_time": "2021-10-17T10:33:23.850024Z",
     "start_time": "2021-10-17T10:33:23.845026Z"
    }
   },
   "outputs": [
    {
     "data": {
      "text/plain": [
       "(28173, 13)"
      ]
     },
     "execution_count": 12,
     "metadata": {},
     "output_type": "execute_result"
    }
   ],
   "source": [
    "df.shape"
   ]
  },
  {
   "cell_type": "code",
   "execution_count": 13,
   "id": "57fab36d",
   "metadata": {
    "ExecuteTime": {
     "end_time": "2021-10-17T10:34:42.326867Z",
     "start_time": "2021-10-17T10:34:42.060692Z"
    }
   },
   "outputs": [
    {
     "data": {
      "text/html": [
       "<div>\n",
       "<style scoped>\n",
       "    .dataframe tbody tr th:only-of-type {\n",
       "        vertical-align: middle;\n",
       "    }\n",
       "\n",
       "    .dataframe tbody tr th {\n",
       "        vertical-align: top;\n",
       "    }\n",
       "\n",
       "    .dataframe thead th {\n",
       "        text-align: right;\n",
       "    }\n",
       "</style>\n",
       "<table border=\"1\" class=\"dataframe\">\n",
       "  <thead>\n",
       "    <tr style=\"text-align: right;\">\n",
       "      <th></th>\n",
       "      <th>symbol</th>\n",
       "      <th>Date</th>\n",
       "      <th>stock_daily_sentiment_score_lm</th>\n",
       "      <th>stock_daily_sentiment_score_vader</th>\n",
       "    </tr>\n",
       "  </thead>\n",
       "  <tbody>\n",
       "    <tr>\n",
       "      <th>0</th>\n",
       "      <td>ACB</td>\n",
       "      <td>2018-03-12</td>\n",
       "      <td>0.0</td>\n",
       "      <td>1.0</td>\n",
       "    </tr>\n",
       "    <tr>\n",
       "      <th>1</th>\n",
       "      <td>ACB</td>\n",
       "      <td>2018-04-12</td>\n",
       "      <td>-1.0</td>\n",
       "      <td>1.0</td>\n",
       "    </tr>\n",
       "    <tr>\n",
       "      <th>2</th>\n",
       "      <td>ACB</td>\n",
       "      <td>2018-06-12</td>\n",
       "      <td>-1.0</td>\n",
       "      <td>1.0</td>\n",
       "    </tr>\n",
       "    <tr>\n",
       "      <th>3</th>\n",
       "      <td>ACB</td>\n",
       "      <td>2018-07-12</td>\n",
       "      <td>0.0</td>\n",
       "      <td>1.0</td>\n",
       "    </tr>\n",
       "    <tr>\n",
       "      <th>4</th>\n",
       "      <td>ACB</td>\n",
       "      <td>2018-08-12</td>\n",
       "      <td>-1.0</td>\n",
       "      <td>-1.0</td>\n",
       "    </tr>\n",
       "  </tbody>\n",
       "</table>\n",
       "</div>"
      ],
      "text/plain": [
       "  symbol       Date  stock_daily_sentiment_score_lm  \\\n",
       "0    ACB 2018-03-12                             0.0   \n",
       "1    ACB 2018-04-12                            -1.0   \n",
       "2    ACB 2018-06-12                            -1.0   \n",
       "3    ACB 2018-07-12                             0.0   \n",
       "4    ACB 2018-08-12                            -1.0   \n",
       "\n",
       "   stock_daily_sentiment_score_vader  \n",
       "0                                1.0  \n",
       "1                                1.0  \n",
       "2                                1.0  \n",
       "3                                1.0  \n",
       "4                               -1.0  "
      ]
     },
     "execution_count": 13,
     "metadata": {},
     "output_type": "execute_result"
    }
   ],
   "source": [
    "df_sentiment = df.groupby(['symbol', 'Date']) \\\n",
    "    .agg(lm_sentiment_pos=('lm_sentiment_pos', 'sum'), \n",
    "         lm_sentiment_neg=('lm_sentiment_neg', 'sum'),\n",
    "         vader_sentiment_pos=('vader_sentiment_pos', 'sum'), \n",
    "         vader_sentiment_neg=('vader_sentiment_neg', 'sum'),) \\\n",
    "    .reset_index()\n",
    "\n",
    "df_sentiment['stock_daily_sentiment_score_lm'] = df_sentiment \\\n",
    "    .apply(lambda x: daily_sentiment_score(x['lm_sentiment_pos'], x['lm_sentiment_neg']), axis=1)\n",
    "df_sentiment['stock_daily_sentiment_score_vader'] = df_sentiment \\\n",
    "    .apply(lambda x: daily_sentiment_score(x['vader_sentiment_pos'], x['vader_sentiment_neg']), axis=1)\n",
    "\n",
    "df_sentiment[['symbol', 'Date', 'stock_daily_sentiment_score_lm', 'stock_daily_sentiment_score_vader']].head()"
   ]
  },
  {
   "cell_type": "code",
   "execution_count": 14,
   "id": "52a8471f",
   "metadata": {
    "ExecuteTime": {
     "end_time": "2021-10-17T10:35:26.027372Z",
     "start_time": "2021-10-17T10:35:25.891421Z"
    }
   },
   "outputs": [],
   "source": [
    "df_sentiment[['symbol', 'Date', 'stock_daily_sentiment_score_lm', 'stock_daily_sentiment_score_vader']] \\\n",
    "    .to_csv('./exported_data/news_sentiment_analysis/vn_stock_news_sentiment_analysis.csv', index=False)"
   ]
  },
  {
   "cell_type": "code",
   "execution_count": null,
   "id": "e0d33216",
   "metadata": {},
   "outputs": [],
   "source": []
  }
 ],
 "metadata": {
  "kernelspec": {
   "display_name": "Python 3",
   "language": "python",
   "name": "python3"
  },
  "language_info": {
   "codemirror_mode": {
    "name": "ipython",
    "version": 3
   },
   "file_extension": ".py",
   "mimetype": "text/x-python",
   "name": "python",
   "nbconvert_exporter": "python",
   "pygments_lexer": "ipython3",
   "version": "3.9.4"
  },
  "toc": {
   "base_numbering": 1,
   "nav_menu": {},
   "number_sections": true,
   "sideBar": true,
   "skip_h1_title": false,
   "title_cell": "Table of Contents",
   "title_sidebar": "Contents",
   "toc_cell": false,
   "toc_position": {},
   "toc_section_display": true,
   "toc_window_display": false
  }
 },
 "nbformat": 4,
 "nbformat_minor": 5
}
