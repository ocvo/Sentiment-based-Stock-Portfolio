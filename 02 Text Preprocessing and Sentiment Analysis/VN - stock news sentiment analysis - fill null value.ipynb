{
 "cells": [
  {
   "cell_type": "code",
   "execution_count": 2,
   "id": "f98b6f2a",
   "metadata": {
    "ExecuteTime": {
     "end_time": "2021-09-15T15:22:37.904608Z",
     "start_time": "2021-09-15T15:22:37.022757Z"
    }
   },
   "outputs": [],
   "source": [
    "import os\n",
    "import gc\n",
    "import pandas as pd\n",
    "from tqdm.notebook import tqdm\n",
    "from vaderSentiment.vaderSentiment import SentimentIntensityAnalyzer\n",
    "from nltk.tokenize import word_tokenize\n",
    "from nltk import pos_tag\n",
    "from nltk.corpus import stopwords, wordnet\n",
    "from nltk.stem import WordNetLemmatizer\n",
    "from nltk.corpus import sentiwordnet as swn\n",
    "import matplotlib.pyplot as plt\n",
    "import re\n",
    "import numpy as np"
   ]
  },
  {
   "cell_type": "code",
   "execution_count": null,
   "id": "db3abce1",
   "metadata": {},
   "outputs": [],
   "source": [
    "# path_news = './stock/vn/business_news/'\n",
    "# list_file_news = [os.path.join(path_news, filename) for filename in os.listdir(path_news) if os.path.isfile(os.path.join(path_news, filename))]"
   ]
  },
  {
   "cell_type": "code",
   "execution_count": 3,
   "id": "9072559b",
   "metadata": {
    "ExecuteTime": {
     "end_time": "2021-09-15T15:22:38.136981Z",
     "start_time": "2021-09-15T15:22:38.131388Z"
    }
   },
   "outputs": [],
   "source": [
    "path_news = './stock/vn/business_news_en/'\n",
    "list_file_news = [os.path.join(path_news, filename) for filename in os.listdir(path_news) if os.path.isfile(os.path.join(path_news, filename))]"
   ]
  },
  {
   "cell_type": "code",
   "execution_count": null,
   "id": "4bfa1e15",
   "metadata": {},
   "outputs": [],
   "source": []
  },
  {
   "cell_type": "code",
   "execution_count": 10,
   "id": "1346e659",
   "metadata": {
    "ExecuteTime": {
     "end_time": "2021-09-15T15:26:40.394107Z",
     "start_time": "2021-09-15T15:26:40.387295Z"
    }
   },
   "outputs": [],
   "source": [
    "import requests\n",
    "import urllib\n",
    "\n",
    "def translate(text):\n",
    "    f = {'key' : 'trnsl.1.1.20210911T110121Z.b17804374c5bae96.39b65931bf5bb5b7faa7bf11f1f811eba5bd9a1b', \n",
    "         'text' : text,\n",
    "         'lang' : 'vi-en',\n",
    "         'format' : 'plain'\n",
    "        }\n",
    "\n",
    "    url = 'https://translate.yandex.net/api/v1.5/tr.json/translate?' + urllib.parse.urlencode(f)\n",
    "    \n",
    "    count_retry = 5\n",
    "    while(count_retry >= 0):\n",
    "        try:\n",
    "            response = requests.get(url)\n",
    "            print(response.text)\n",
    "            return response.json()['text'][0]\n",
    "        except:\n",
    "            print(f'failed. Remaining retry {count_retry}...')\n",
    "            count_retry -= 1\n",
    "        \n",
    "    return np.NaN"
   ]
  },
  {
   "cell_type": "code",
   "execution_count": 11,
   "id": "78cb78aa",
   "metadata": {
    "ExecuteTime": {
     "end_time": "2021-09-15T15:26:44.727848Z",
     "start_time": "2021-09-15T15:26:43.106805Z"
    }
   },
   "outputs": [
    {
     "name": "stdout",
     "output_type": "stream",
     "text": [
      "{\"code\":200,\"lang\":\"vi-en\",\"text\":[\"Vietnam, my country\"]}\n"
     ]
    },
    {
     "data": {
      "text/plain": [
       "'Vietnam, my country'"
      ]
     },
     "execution_count": 11,
     "metadata": {},
     "output_type": "execute_result"
    }
   ],
   "source": [
    "translate(\"Việt Nam đất nước tôi\")"
   ]
  },
  {
   "cell_type": "code",
   "execution_count": 12,
   "id": "1e7f10b7",
   "metadata": {
    "ExecuteTime": {
     "end_time": "2021-09-15T15:26:48.430068Z",
     "start_time": "2021-09-15T15:26:48.416095Z"
    }
   },
   "outputs": [],
   "source": [
    "def translate_df(df, symbol):\n",
    "    print(df.shape)\n",
    "    total_row = len(df)\n",
    "    row_completed = 0\n",
    "    if 'article_concat_en' not in df.columns:\n",
    "        df['article_concat_en'] = ''\n",
    "    for index, row in df.iterrows():\n",
    "        if not pd.isnull(row['article_concat_en']):\n",
    "            row_completed += 1\n",
    "            continue\n",
    "        text_translated = translate(row['article_concat_en'])\n",
    "        df.loc[df.index == index, 'article_concat_en'] = text_translated\n",
    "        row_completed += 1\n",
    "        print(text_translated)\n",
    "        print(f'{symbol} - {index} done, {row_completed}/{total_row} completed')\n",
    "        \n",
    "    return df"
   ]
  },
  {
   "cell_type": "code",
   "execution_count": 8,
   "id": "67e3bd4b",
   "metadata": {
    "ExecuteTime": {
     "end_time": "2021-09-15T15:22:56.625614Z",
     "start_time": "2021-09-15T15:22:56.542380Z"
    }
   },
   "outputs": [],
   "source": [
    "list_vn30 = pd.read_csv('list_vn_hsx30.csv')['symbol'].unique()"
   ]
  },
  {
   "cell_type": "code",
   "execution_count": 10,
   "id": "d0dab7b4",
   "metadata": {
    "ExecuteTime": {
     "end_time": "2021-09-15T12:37:14.075222Z",
     "start_time": "2021-09-15T12:37:14.072428Z"
    }
   },
   "outputs": [
    {
     "data": {
      "text/plain": [
       "array(['ACB', 'BID', 'BVH', 'CTG', 'FPT', 'GAS', 'GVR', 'HDB', 'HPG',\n",
       "       'KDH', 'MBB', 'MSN', 'MWG', 'NVL', 'PDR', 'PLX', 'PNJ', 'POW',\n",
       "       'SAB', 'SSI', 'STB', 'TCB', 'TPB', 'VCB', 'VHM', 'VIC', 'VJC',\n",
       "       'VNM', 'VPB', 'VRE'], dtype=object)"
      ]
     },
     "execution_count": 10,
     "metadata": {},
     "output_type": "execute_result"
    }
   ],
   "source": [
    "list_vn30"
   ]
  },
  {
   "cell_type": "code",
   "execution_count": null,
   "id": "93185547",
   "metadata": {},
   "outputs": [],
   "source": []
  },
  {
   "cell_type": "code",
   "execution_count": 13,
   "id": "2c7c1e79",
   "metadata": {
    "ExecuteTime": {
     "end_time": "2021-09-15T15:29:05.536710Z",
     "start_time": "2021-09-15T15:29:03.558331Z"
    },
    "scrolled": true
   },
   "outputs": [
    {
     "data": {
      "application/vnd.jupyter.widget-view+json": {
       "model_id": "198f05d6787b4a24be2305a8e4138430",
       "version_major": 2,
       "version_minor": 0
      },
      "text/plain": [
       "  0%|          | 0/31 [00:00<?, ?it/s]"
      ]
     },
     "metadata": {},
     "output_type": "display_data"
    },
    {
     "name": "stdout",
     "output_type": "stream",
     "text": [
      "start processing file KDH.csv\n",
      "(315, 6)\n",
      "start processing file MBB.csv\n",
      "(965, 6)\n",
      "start processing file MSN.csv\n",
      "(1041, 6)\n",
      "start processing file MWG.csv\n",
      "(615, 6)\n",
      "start processing file NVL.csv\n",
      "(758, 6)\n",
      "start processing file PDR.csv\n",
      "(267, 6)\n",
      "start processing file PLX.csv\n",
      "(684, 6)\n",
      "start processing file PNJ.csv\n",
      "(539, 6)\n",
      "start processing file POW.csv\n",
      "(577, 6)\n",
      "start processing file SAB.csv\n",
      "(766, 6)\n",
      "start processing file SSI.csv\n",
      "(1035, 6)\n",
      "start processing file STB.csv\n",
      "(1158, 6)\n",
      "start processing file TPB.csv\n",
      "(8, 6)\n",
      "start processing file VCB.csv\n",
      "(2215, 6)\n",
      "start processing file VHM.csv\n",
      "(1433, 6)\n",
      "start processing file VIC.csv\n",
      "(1604, 6)\n",
      "start processing file VJC.csv\n",
      "(734, 6)\n",
      "start processing file VNM.csv\n",
      "(1530, 6)\n",
      "start processing file VPB.csv\n",
      "(1188, 6)\n",
      "start processing file VRE.csv\n",
      "(882, 6)\n"
     ]
    }
   ],
   "source": [
    "filter_start_time = '2009-06-01'\n",
    "\n",
    "for file in tqdm(list_file_news):\n",
    "    basename = os.path.basename(file)\n",
    "    os.path.splitext(basename)\n",
    "    file_name, file_extension = os.path.splitext(basename)\n",
    "    if file_extension != '.csv':\n",
    "        continue\n",
    "    \n",
    "    if file_name not in list_vn30:\n",
    "        continue\n",
    "        \n",
    "    file_translated = f'./stock/vn/business_news_en2/{basename}'\n",
    "    if os.path.isfile(file_translated):\n",
    "        continue\n",
    "    \n",
    "    print(f'start processing file {basename}')\n",
    "    \n",
    "    df_news = pd.read_csv(file)#[['time', 'title_name', 'para']]\n",
    "#     break\n",
    "    \n",
    "#     df_news.loc[df_news['time'].str.contains('trước'), 'time'] = 'Aug 06, 2021'\n",
    "    \n",
    "#     df_news['para'] = df_news['para'].str.replace('Investing.com', '', regex=False)\n",
    "#     df_news['para'] = df_news['para'].str.replace('Vietstock', '', regex=False)\n",
    "    \n",
    "#     df_news['Date'] = pd.to_datetime(df_news['time'])\n",
    "#     df_news = df_news[df_news['Date'] >= filter_start_time]\n",
    "#     df_news.drop_duplicates(subset=['title_name'], keep='first', inplace=True)\n",
    "#     df_news.drop('time', axis=1, inplace=True)\n",
    "#     df_news['symbol'] = file_name\n",
    "#     df_news.rename(columns={'title_name' : 'article_title'}, inplace=True)\n",
    "#     df_news.rename(columns={'para' : 'article_abstract'}, inplace=True)\n",
    "#     df_news = df_news[['symbol', 'Date', 'article_title', 'article_abstract']]\n",
    "    \n",
    "#     df_news[['article_title', 'article_abstract']] = df_news[['article_title', 'article_abstract']].fillna('')\n",
    "#     df_news['article_concat'] = df_news['article_title'] + ' ' + df_news['article_abstract']\n",
    "#     df_news['article_concat'] = df_news['article_concat'].str.strip()\n",
    "    \n",
    "    df_news = translate_df(df_news, symbol=file_name)\n",
    "    \n",
    "    df_news.to_csv(file_translated, index=False)"
   ]
  },
  {
   "cell_type": "code",
   "execution_count": null,
   "id": "1a577c2b",
   "metadata": {
    "ExecuteTime": {
     "end_time": "2021-09-08T16:09:24.472244Z",
     "start_time": "2021-09-08T15:51:46.382Z"
    }
   },
   "outputs": [],
   "source": [
    "df.head()"
   ]
  },
  {
   "cell_type": "code",
   "execution_count": 54,
   "id": "d295a36e",
   "metadata": {
    "ExecuteTime": {
     "end_time": "2021-09-08T15:31:50.266859Z",
     "start_time": "2021-09-08T15:31:50.253452Z"
    }
   },
   "outputs": [
    {
     "data": {
      "text/html": [
       "<div>\n",
       "<style scoped>\n",
       "    .dataframe tbody tr th:only-of-type {\n",
       "        vertical-align: middle;\n",
       "    }\n",
       "\n",
       "    .dataframe tbody tr th {\n",
       "        vertical-align: top;\n",
       "    }\n",
       "\n",
       "    .dataframe thead th {\n",
       "        text-align: right;\n",
       "    }\n",
       "</style>\n",
       "<table border=\"1\" class=\"dataframe\">\n",
       "  <thead>\n",
       "    <tr style=\"text-align: right;\">\n",
       "      <th></th>\n",
       "      <th>symbol</th>\n",
       "      <th>Date</th>\n",
       "      <th>article_title</th>\n",
       "      <th>article_abstract</th>\n",
       "      <th>article_concat</th>\n",
       "    </tr>\n",
       "  </thead>\n",
       "  <tbody>\n",
       "    <tr>\n",
       "      <th>0</th>\n",
       "      <td>AAA</td>\n",
       "      <td>2021-12-08</td>\n",
       "      <td>Vì sao Mỹ kêu gọi OPEC tăng sản lượng khai thá...</td>\n",
       "      <td>- Vì sao Mỹ kêu gọi OPEC tăng sản lượng khai ...</td>\n",
       "      <td>Vì sao Mỹ kêu gọi OPEC tăng sản lượng khai thá...</td>\n",
       "    </tr>\n",
       "    <tr>\n",
       "      <th>1</th>\n",
       "      <td>AAA</td>\n",
       "      <td>2021-12-08</td>\n",
       "      <td>Các doanh nghiệp chốt quyền nhận cổ tức bằng t...</td>\n",
       "      <td>– Dưới đây là thông tin về các doanh nghiệp d...</td>\n",
       "      <td>Các doanh nghiệp chốt quyền nhận cổ tức bằng t...</td>\n",
       "    </tr>\n",
       "    <tr>\n",
       "      <th>2</th>\n",
       "      <td>AAA</td>\n",
       "      <td>2021-10-08</td>\n",
       "      <td>Phân tích kỹ thuật phiên chiều 10/08: VN-Index...</td>\n",
       "      <td>- Phân tích kỹ thuật phiên chiều 10/08: VN-In...</td>\n",
       "      <td>Phân tích kỹ thuật phiên chiều 10/08: VN-Index...</td>\n",
       "    </tr>\n",
       "    <tr>\n",
       "      <th>3</th>\n",
       "      <td>AAA</td>\n",
       "      <td>2021-10-08</td>\n",
       "      <td>Nhựa An Phát Xanh dự kiến phát hành gần 30 tri...</td>\n",
       "      <td>- CTCP Nhựa An Phát Xanh (HM:AAA) đã thông qu...</td>\n",
       "      <td>Nhựa An Phát Xanh dự kiến phát hành gần 30 tri...</td>\n",
       "    </tr>\n",
       "    <tr>\n",
       "      <th>4</th>\n",
       "      <td>AAA</td>\n",
       "      <td>2021-02-08</td>\n",
       "      <td>Doanh thu quý II Nhựa An Phát Xanh tăng 54%</td>\n",
       "      <td>- CTCP Nhựa An Phát Xanh (HM:AAA) vừa công bố...</td>\n",
       "      <td>Doanh thu quý II Nhựa An Phát Xanh tăng 54%  -...</td>\n",
       "    </tr>\n",
       "  </tbody>\n",
       "</table>\n",
       "</div>"
      ],
      "text/plain": [
       "  symbol       Date                                      article_title  \\\n",
       "0    AAA 2021-12-08  Vì sao Mỹ kêu gọi OPEC tăng sản lượng khai thá...   \n",
       "1    AAA 2021-12-08  Các doanh nghiệp chốt quyền nhận cổ tức bằng t...   \n",
       "2    AAA 2021-10-08  Phân tích kỹ thuật phiên chiều 10/08: VN-Index...   \n",
       "3    AAA 2021-10-08  Nhựa An Phát Xanh dự kiến phát hành gần 30 tri...   \n",
       "4    AAA 2021-02-08        Doanh thu quý II Nhựa An Phát Xanh tăng 54%   \n",
       "\n",
       "                                    article_abstract  \\\n",
       "0   - Vì sao Mỹ kêu gọi OPEC tăng sản lượng khai ...   \n",
       "1   – Dưới đây là thông tin về các doanh nghiệp d...   \n",
       "2   - Phân tích kỹ thuật phiên chiều 10/08: VN-In...   \n",
       "3   - CTCP Nhựa An Phát Xanh (HM:AAA) đã thông qu...   \n",
       "4   - CTCP Nhựa An Phát Xanh (HM:AAA) vừa công bố...   \n",
       "\n",
       "                                      article_concat  \n",
       "0  Vì sao Mỹ kêu gọi OPEC tăng sản lượng khai thá...  \n",
       "1  Các doanh nghiệp chốt quyền nhận cổ tức bằng t...  \n",
       "2  Phân tích kỹ thuật phiên chiều 10/08: VN-Index...  \n",
       "3  Nhựa An Phát Xanh dự kiến phát hành gần 30 tri...  \n",
       "4  Doanh thu quý II Nhựa An Phát Xanh tăng 54%  -...  "
      ]
     },
     "execution_count": 54,
     "metadata": {},
     "output_type": "execute_result"
    }
   ],
   "source": [
    "df.head()"
   ]
  },
  {
   "cell_type": "code",
   "execution_count": 57,
   "id": "5df6cdc5",
   "metadata": {
    "ExecuteTime": {
     "end_time": "2021-09-08T15:32:45.943861Z",
     "start_time": "2021-09-08T15:32:45.912422Z"
    }
   },
   "outputs": [
    {
     "data": {
      "text/plain": [
       "12243678"
      ]
     },
     "execution_count": 57,
     "metadata": {},
     "output_type": "execute_result"
    }
   ],
   "source": [
    "df['article_concat'].str.len().sum()"
   ]
  },
  {
   "cell_type": "code",
   "execution_count": null,
   "id": "ce4f30e7",
   "metadata": {},
   "outputs": [],
   "source": []
  },
  {
   "cell_type": "code",
   "execution_count": null,
   "id": "01a342a9",
   "metadata": {},
   "outputs": [],
   "source": []
  },
  {
   "cell_type": "code",
   "execution_count": null,
   "id": "7109d8c4",
   "metadata": {},
   "outputs": [],
   "source": []
  },
  {
   "cell_type": "code",
   "execution_count": null,
   "id": "81c8f87b",
   "metadata": {},
   "outputs": [],
   "source": []
  },
  {
   "cell_type": "code",
   "execution_count": null,
   "id": "ff1414bc",
   "metadata": {},
   "outputs": [],
   "source": []
  },
  {
   "cell_type": "code",
   "execution_count": null,
   "id": "8cf47884",
   "metadata": {},
   "outputs": [],
   "source": []
  },
  {
   "cell_type": "code",
   "execution_count": 3,
   "id": "c93ee0e3",
   "metadata": {
    "ExecuteTime": {
     "end_time": "2021-09-08T12:51:36.149701Z",
     "start_time": "2021-09-08T12:51:36.140008Z"
    }
   },
   "outputs": [],
   "source": [
    "def pos_tag_text(text):\n",
    "    stop_words = set(stopwords.words('english'))\n",
    "    pos_dict = {\n",
    "        'J' : wordnet.ADJ, \n",
    "        'V' : wordnet.VERB, \n",
    "        'N' : wordnet.NOUN, \n",
    "        'R' : wordnet.ADV\n",
    "    }\n",
    "\n",
    "    text = re.sub('[^A-Za-z]+', ' ', text)\n",
    "    token = word_tokenize(text.lower())\n",
    "    words_list = [w for w in token if not w in stop_words]\n",
    "    pos_tagged = pos_tag(words_list)\n",
    "    pos_data = [(w, pos_dict.get(p[0])) for w, p in pos_tagged]\n",
    "    \n",
    "    return pos_data"
   ]
  },
  {
   "cell_type": "code",
   "execution_count": 4,
   "id": "38c8aa73",
   "metadata": {
    "ExecuteTime": {
     "end_time": "2021-09-08T12:51:37.702807Z",
     "start_time": "2021-09-08T12:51:37.694929Z"
    }
   },
   "outputs": [],
   "source": [
    "def lemmatize_text(pos_data):\n",
    "    wordnet_lemmatizer = WordNetLemmatizer()\n",
    "    lemma_rew = \" \"\n",
    "    for word, pos in pos_data:\n",
    "        if pos is None:\n",
    "            lemma = word\n",
    "            lemma_rew = lemma_rew + \" \" + lemma\n",
    "        else:\n",
    "            lemma = wordnet_lemmatizer.lemmatize(word, pos=pos)\n",
    "            lemma_rew = lemma_rew + \" \" + lemma\n",
    "            \n",
    "    return lemma_rew.strip()"
   ]
  },
  {
   "cell_type": "code",
   "execution_count": 5,
   "id": "4f657006",
   "metadata": {
    "ExecuteTime": {
     "end_time": "2021-09-08T12:51:39.407409Z",
     "start_time": "2021-09-08T12:51:39.396502Z"
    }
   },
   "outputs": [],
   "source": [
    "def sentiwordnet_analysis(pos_data):\n",
    "    wordnet_lemmatizer = WordNetLemmatizer()\n",
    "    tokens_count = 0\n",
    "    score_pos = 0\n",
    "    score_neg = 0\n",
    "    score_obj = 0\n",
    "    for word, pos in pos_data:\n",
    "        if not pos:\n",
    "            continue\n",
    "            \n",
    "        lemma = wordnet_lemmatizer.lemmatize(word, pos=pos)\n",
    "        if not lemma:\n",
    "            continue\n",
    "        \n",
    "        synsets = wordnet.synsets(lemma, pos=pos)\n",
    "        if not synsets:\n",
    "            continue\n",
    "            \n",
    "        # Take the first sense, the most common\n",
    "        synset = synsets[0]\n",
    "        swn_synset = swn.senti_synset(synset.name())\n",
    "        \n",
    "        score_pos += swn_synset.pos_score()\n",
    "        score_neg += swn_synset.neg_score()\n",
    "        score_obj += swn_synset.obj_score()\n",
    "        \n",
    "        tokens_count += 1\n",
    "    \n",
    "    score_total = score_pos - score_neg\n",
    "    \n",
    "    return (score_pos, score_neg, score_obj, score_total)"
   ]
  },
  {
   "cell_type": "code",
   "execution_count": 6,
   "id": "8b086a72",
   "metadata": {
    "ExecuteTime": {
     "end_time": "2021-09-08T12:51:41.153389Z",
     "start_time": "2021-09-08T12:51:41.146920Z"
    }
   },
   "outputs": [],
   "source": [
    "def make_sentiment_features(df):\n",
    "    analyzer = SentimentIntensityAnalyzer()\n",
    "    \n",
    "    df['article_concat_pos_tag'] = df['article_concat'].apply(pos_tag_text)\n",
    "    df['article_concat_lemma'] = df['article_concat_pos_tag'].apply(lemmatize_text)\n",
    "    \n",
    "    df['stock_news_vader_neg'] = df.apply(lambda x: analyzer.polarity_scores(x['article_concat_lemma'])['neg'], axis=1)\n",
    "    df['stock_news_vader_pos'] = df.apply(lambda x: analyzer.polarity_scores(x['article_concat_lemma'])['pos'], axis=1)\n",
    "    df['stock_news_vader_neu'] = df.apply(lambda x: analyzer.polarity_scores(x['article_concat_lemma'])['neu'], axis=1)\n",
    "    df['stock_news_vader_compound'] = df.apply(lambda x: analyzer.polarity_scores(x['article_concat_lemma'])['compound'], axis=1)\n",
    "    \n",
    "    df['stock_news_wordnet_pos'] = df.apply(lambda x: sentiwordnet_analysis(x['article_concat_pos_tag'])[0], axis=1)\n",
    "    df['stock_news_wordnet_neg'] = df.apply(lambda x: sentiwordnet_analysis(x['article_concat_pos_tag'])[1], axis=1)\n",
    "    df['stock_news_wordnet_obj'] = df.apply(lambda x: sentiwordnet_analysis(x['article_concat_pos_tag'])[2], axis=1)\n",
    "    df['stock_news_wordnet_total'] = df.apply(lambda x: sentiwordnet_analysis(x['article_concat_pos_tag'])[3], axis=1)\n",
    "    \n",
    "    return df"
   ]
  },
  {
   "cell_type": "code",
   "execution_count": 7,
   "id": "cc235baa",
   "metadata": {
    "ExecuteTime": {
     "end_time": "2021-09-08T13:12:52.528681Z",
     "start_time": "2021-09-08T12:51:46.681698Z"
    }
   },
   "outputs": [
    {
     "data": {
      "application/vnd.jupyter.widget-view+json": {
       "model_id": "9a5b91112d6c461381c475af007fa41a",
       "version_major": 2,
       "version_minor": 0
      },
      "text/plain": [
       "  0%|          | 0/498 [00:00<?, ?it/s]"
      ]
     },
     "metadata": {},
     "output_type": "display_data"
    }
   ],
   "source": [
    "df = None\n",
    "filter_start_time = '2005-01-01'\n",
    "\n",
    "for file in tqdm(list_file_news):\n",
    "    basename = os.path.basename(file)\n",
    "    os.path.splitext(basename)\n",
    "    file_name, file_extension = os.path.splitext(basename)\n",
    "    if file_extension != '.csv':\n",
    "        continue\n",
    "        \n",
    "    df_news = pd.read_csv(file)[['time', 'title_name', 'para']]\n",
    "    \n",
    "    df_news.loc[df_news['time'].str.contains('ago'), 'time'] = 'Aug 06, 2021'\n",
    "    df_news['Date'] = pd.to_datetime(df_news['time'])\n",
    "    df_news = df_news[df_news['Date'] >= filter_start_time]\n",
    "    df_news.drop_duplicates(subset=['title_name'], keep='first', inplace=True)\n",
    "    df_news.drop('time', axis=1, inplace=True)\n",
    "    df_news['symbol'] = file_name\n",
    "    df_news.rename(columns={'title_name' : 'article_title'}, inplace=True)\n",
    "    df_news.rename(columns={'para' : 'article_abstract'}, inplace=True)\n",
    "    df_news = df_news[['symbol', 'Date', 'article_title', 'article_abstract']]\n",
    "    \n",
    "    df_news[['article_title', 'article_abstract']] = df_news[['article_title', 'article_abstract']].fillna('')\n",
    "    df_news['article_concat'] = df_news['article_title'] + ' ' + df_news['article_abstract']\n",
    "\n",
    "    df_news = make_sentiment_features(df_news)\n",
    "    \n",
    "    if df is None:\n",
    "        df = df_news.copy()\n",
    "    else:\n",
    "        df = pd.concat([df, df_news], axis=0)\n",
    "    \n",
    "    del df_news\n",
    "    gc.collect()"
   ]
  },
  {
   "cell_type": "code",
   "execution_count": 8,
   "id": "ffd5d80d",
   "metadata": {
    "ExecuteTime": {
     "end_time": "2021-09-08T13:51:42.831863Z",
     "start_time": "2021-09-08T13:51:42.763495Z"
    }
   },
   "outputs": [
    {
     "data": {
      "text/html": [
       "<div>\n",
       "<style scoped>\n",
       "    .dataframe tbody tr th:only-of-type {\n",
       "        vertical-align: middle;\n",
       "    }\n",
       "\n",
       "    .dataframe tbody tr th {\n",
       "        vertical-align: top;\n",
       "    }\n",
       "\n",
       "    .dataframe thead th {\n",
       "        text-align: right;\n",
       "    }\n",
       "</style>\n",
       "<table border=\"1\" class=\"dataframe\">\n",
       "  <thead>\n",
       "    <tr style=\"text-align: right;\">\n",
       "      <th></th>\n",
       "      <th>symbol</th>\n",
       "      <th>Date</th>\n",
       "      <th>article_title</th>\n",
       "      <th>article_abstract</th>\n",
       "      <th>article_concat</th>\n",
       "      <th>article_concat_pos_tag</th>\n",
       "      <th>article_concat_lemma</th>\n",
       "      <th>stock_news_vader_neg</th>\n",
       "      <th>stock_news_vader_pos</th>\n",
       "      <th>stock_news_vader_neu</th>\n",
       "      <th>stock_news_vader_compound</th>\n",
       "      <th>stock_news_wordnet_pos</th>\n",
       "      <th>stock_news_wordnet_neg</th>\n",
       "      <th>stock_news_wordnet_obj</th>\n",
       "      <th>stock_news_wordnet_total</th>\n",
       "    </tr>\n",
       "  </thead>\n",
       "  <tbody>\n",
       "    <tr>\n",
       "      <th>0</th>\n",
       "      <td>A</td>\n",
       "      <td>2021-07-29</td>\n",
       "      <td>Will Agilent Technologies Continue to Surge Hi...</td>\n",
       "      <td>Agilent (A) has generated significant returns ...</td>\n",
       "      <td>Will Agilent Technologies Continue to Surge Hi...</td>\n",
       "      <td>[(agilent, n), (technologies, n), (continue, v...</td>\n",
       "      <td>agilent technology continue surge high agilent...</td>\n",
       "      <td>0.000</td>\n",
       "      <td>0.241</td>\n",
       "      <td>0.759</td>\n",
       "      <td>0.5719</td>\n",
       "      <td>1.500</td>\n",
       "      <td>1.250</td>\n",
       "      <td>15.250</td>\n",
       "      <td>0.250</td>\n",
       "    </tr>\n",
       "    <tr>\n",
       "      <th>1</th>\n",
       "      <td>A</td>\n",
       "      <td>2021-07-13</td>\n",
       "      <td>3 Large-Cap Stocks to Buy for the Long Term</td>\n",
       "      <td>Because the stock market is expected to remain...</td>\n",
       "      <td>3 Large-Cap Stocks to Buy for the Long Term Be...</td>\n",
       "      <td>[(large, a), (cap, n), (stocks, n), (buy, v), ...</td>\n",
       "      <td>large cap stock buy long term stock market exp...</td>\n",
       "      <td>0.116</td>\n",
       "      <td>0.000</td>\n",
       "      <td>0.884</td>\n",
       "      <td>-0.4404</td>\n",
       "      <td>1.500</td>\n",
       "      <td>1.625</td>\n",
       "      <td>16.875</td>\n",
       "      <td>-0.125</td>\n",
       "    </tr>\n",
       "    <tr>\n",
       "      <th>2</th>\n",
       "      <td>A</td>\n",
       "      <td>2021-07-12</td>\n",
       "      <td>KeyBanc Stick to Their Buy Rating for Agilent</td>\n",
       "      <td>KeyBanc analyst Paul Knight maintained a Buy r...</td>\n",
       "      <td>KeyBanc Stick to Their Buy Rating for Agilent ...</td>\n",
       "      <td>[(keybanc, n), (stick, n), (buy, n), (rating, ...</td>\n",
       "      <td>keybanc stick buy rating agilent keybanc analy...</td>\n",
       "      <td>0.000</td>\n",
       "      <td>0.087</td>\n",
       "      <td>0.913</td>\n",
       "      <td>0.2960</td>\n",
       "      <td>2.125</td>\n",
       "      <td>0.625</td>\n",
       "      <td>14.250</td>\n",
       "      <td>1.500</td>\n",
       "    </tr>\n",
       "    <tr>\n",
       "      <th>3</th>\n",
       "      <td>A</td>\n",
       "      <td>2021-06-25</td>\n",
       "      <td>2 Healthcare Stocks That Could Grow Your Portf...</td>\n",
       "      <td>The healthcare industry has attracted much att...</td>\n",
       "      <td>2 Healthcare Stocks That Could Grow Your Portf...</td>\n",
       "      <td>[(healthcare, n), (stocks, n), (could, None), ...</td>\n",
       "      <td>healthcare stock could grow portfolio healthca...</td>\n",
       "      <td>0.058</td>\n",
       "      <td>0.096</td>\n",
       "      <td>0.846</td>\n",
       "      <td>0.2500</td>\n",
       "      <td>0.875</td>\n",
       "      <td>1.000</td>\n",
       "      <td>17.125</td>\n",
       "      <td>-0.125</td>\n",
       "    </tr>\n",
       "    <tr>\n",
       "      <th>4</th>\n",
       "      <td>A</td>\n",
       "      <td>2021-06-04</td>\n",
       "      <td>3 Must-Own Healthcare Stocks for June</td>\n",
       "      <td>Despite the healthcare system’s limitations ha...</td>\n",
       "      <td>3 Must-Own Healthcare Stocks for June Despite ...</td>\n",
       "      <td>[(must, None), (healthcare, v), (stocks, n), (...</td>\n",
       "      <td>must healthcare stock june despite healthcare ...</td>\n",
       "      <td>0.062</td>\n",
       "      <td>0.276</td>\n",
       "      <td>0.662</td>\n",
       "      <td>0.6692</td>\n",
       "      <td>1.125</td>\n",
       "      <td>0.250</td>\n",
       "      <td>13.625</td>\n",
       "      <td>0.875</td>\n",
       "    </tr>\n",
       "  </tbody>\n",
       "</table>\n",
       "</div>"
      ],
      "text/plain": [
       "  symbol       Date                                      article_title  \\\n",
       "0      A 2021-07-29  Will Agilent Technologies Continue to Surge Hi...   \n",
       "1      A 2021-07-13        3 Large-Cap Stocks to Buy for the Long Term   \n",
       "2      A 2021-07-12      KeyBanc Stick to Their Buy Rating for Agilent   \n",
       "3      A 2021-06-25  2 Healthcare Stocks That Could Grow Your Portf...   \n",
       "4      A 2021-06-04              3 Must-Own Healthcare Stocks for June   \n",
       "\n",
       "                                    article_abstract  \\\n",
       "0  Agilent (A) has generated significant returns ...   \n",
       "1  Because the stock market is expected to remain...   \n",
       "2  KeyBanc analyst Paul Knight maintained a Buy r...   \n",
       "3  The healthcare industry has attracted much att...   \n",
       "4  Despite the healthcare system’s limitations ha...   \n",
       "\n",
       "                                      article_concat  \\\n",
       "0  Will Agilent Technologies Continue to Surge Hi...   \n",
       "1  3 Large-Cap Stocks to Buy for the Long Term Be...   \n",
       "2  KeyBanc Stick to Their Buy Rating for Agilent ...   \n",
       "3  2 Healthcare Stocks That Could Grow Your Portf...   \n",
       "4  3 Must-Own Healthcare Stocks for June Despite ...   \n",
       "\n",
       "                              article_concat_pos_tag  \\\n",
       "0  [(agilent, n), (technologies, n), (continue, v...   \n",
       "1  [(large, a), (cap, n), (stocks, n), (buy, v), ...   \n",
       "2  [(keybanc, n), (stick, n), (buy, n), (rating, ...   \n",
       "3  [(healthcare, n), (stocks, n), (could, None), ...   \n",
       "4  [(must, None), (healthcare, v), (stocks, n), (...   \n",
       "\n",
       "                                article_concat_lemma  stock_news_vader_neg  \\\n",
       "0  agilent technology continue surge high agilent...                 0.000   \n",
       "1  large cap stock buy long term stock market exp...                 0.116   \n",
       "2  keybanc stick buy rating agilent keybanc analy...                 0.000   \n",
       "3  healthcare stock could grow portfolio healthca...                 0.058   \n",
       "4  must healthcare stock june despite healthcare ...                 0.062   \n",
       "\n",
       "   stock_news_vader_pos  stock_news_vader_neu  stock_news_vader_compound  \\\n",
       "0                 0.241                 0.759                     0.5719   \n",
       "1                 0.000                 0.884                    -0.4404   \n",
       "2                 0.087                 0.913                     0.2960   \n",
       "3                 0.096                 0.846                     0.2500   \n",
       "4                 0.276                 0.662                     0.6692   \n",
       "\n",
       "   stock_news_wordnet_pos  stock_news_wordnet_neg  stock_news_wordnet_obj  \\\n",
       "0                   1.500                   1.250                  15.250   \n",
       "1                   1.500                   1.625                  16.875   \n",
       "2                   2.125                   0.625                  14.250   \n",
       "3                   0.875                   1.000                  17.125   \n",
       "4                   1.125                   0.250                  13.625   \n",
       "\n",
       "   stock_news_wordnet_total  \n",
       "0                     0.250  \n",
       "1                    -0.125  \n",
       "2                     1.500  \n",
       "3                    -0.125  \n",
       "4                     0.875  "
      ]
     },
     "execution_count": 8,
     "metadata": {},
     "output_type": "execute_result"
    }
   ],
   "source": [
    "df.head()"
   ]
  },
  {
   "cell_type": "code",
   "execution_count": 9,
   "id": "9081cbae",
   "metadata": {
    "ExecuteTime": {
     "end_time": "2021-09-08T13:51:53.717144Z",
     "start_time": "2021-09-08T13:51:53.591504Z"
    }
   },
   "outputs": [
    {
     "data": {
      "text/html": [
       "<div>\n",
       "<style scoped>\n",
       "    .dataframe tbody tr th:only-of-type {\n",
       "        vertical-align: middle;\n",
       "    }\n",
       "\n",
       "    .dataframe tbody tr th {\n",
       "        vertical-align: top;\n",
       "    }\n",
       "\n",
       "    .dataframe thead th {\n",
       "        text-align: right;\n",
       "    }\n",
       "</style>\n",
       "<table border=\"1\" class=\"dataframe\">\n",
       "  <thead>\n",
       "    <tr style=\"text-align: right;\">\n",
       "      <th></th>\n",
       "      <th>stock_news_vader_neg</th>\n",
       "      <th>stock_news_vader_pos</th>\n",
       "      <th>stock_news_vader_neu</th>\n",
       "      <th>stock_news_vader_compound</th>\n",
       "      <th>stock_news_wordnet_pos</th>\n",
       "      <th>stock_news_wordnet_neg</th>\n",
       "      <th>stock_news_wordnet_obj</th>\n",
       "      <th>stock_news_wordnet_total</th>\n",
       "    </tr>\n",
       "  </thead>\n",
       "  <tbody>\n",
       "    <tr>\n",
       "      <th>count</th>\n",
       "      <td>288565.000000</td>\n",
       "      <td>288565.000000</td>\n",
       "      <td>288565.000000</td>\n",
       "      <td>288565.000000</td>\n",
       "      <td>288565.000000</td>\n",
       "      <td>288565.000000</td>\n",
       "      <td>288565.000000</td>\n",
       "      <td>288565.000000</td>\n",
       "    </tr>\n",
       "    <tr>\n",
       "      <th>mean</th>\n",
       "      <td>0.075769</td>\n",
       "      <td>0.118148</td>\n",
       "      <td>0.806077</td>\n",
       "      <td>0.144212</td>\n",
       "      <td>0.761158</td>\n",
       "      <td>0.626431</td>\n",
       "      <td>18.897681</td>\n",
       "      <td>0.134727</td>\n",
       "    </tr>\n",
       "    <tr>\n",
       "      <th>std</th>\n",
       "      <td>0.096249</td>\n",
       "      <td>0.102844</td>\n",
       "      <td>0.125081</td>\n",
       "      <td>0.515180</td>\n",
       "      <td>0.609514</td>\n",
       "      <td>0.587094</td>\n",
       "      <td>3.922670</td>\n",
       "      <td>0.777437</td>\n",
       "    </tr>\n",
       "    <tr>\n",
       "      <th>min</th>\n",
       "      <td>0.000000</td>\n",
       "      <td>0.000000</td>\n",
       "      <td>0.189000</td>\n",
       "      <td>-0.986700</td>\n",
       "      <td>0.000000</td>\n",
       "      <td>0.000000</td>\n",
       "      <td>0.000000</td>\n",
       "      <td>-4.375000</td>\n",
       "    </tr>\n",
       "    <tr>\n",
       "      <th>25%</th>\n",
       "      <td>0.000000</td>\n",
       "      <td>0.000000</td>\n",
       "      <td>0.718000</td>\n",
       "      <td>-0.226300</td>\n",
       "      <td>0.250000</td>\n",
       "      <td>0.125000</td>\n",
       "      <td>16.625000</td>\n",
       "      <td>-0.250000</td>\n",
       "    </tr>\n",
       "    <tr>\n",
       "      <th>50%</th>\n",
       "      <td>0.044000</td>\n",
       "      <td>0.099000</td>\n",
       "      <td>0.814000</td>\n",
       "      <td>0.202300</td>\n",
       "      <td>0.625000</td>\n",
       "      <td>0.500000</td>\n",
       "      <td>19.125000</td>\n",
       "      <td>0.125000</td>\n",
       "    </tr>\n",
       "    <tr>\n",
       "      <th>75%</th>\n",
       "      <td>0.129000</td>\n",
       "      <td>0.180000</td>\n",
       "      <td>0.906000</td>\n",
       "      <td>0.585900</td>\n",
       "      <td>1.125000</td>\n",
       "      <td>1.000000</td>\n",
       "      <td>21.500000</td>\n",
       "      <td>0.625000</td>\n",
       "    </tr>\n",
       "    <tr>\n",
       "      <th>max</th>\n",
       "      <td>0.695000</td>\n",
       "      <td>0.811000</td>\n",
       "      <td>1.000000</td>\n",
       "      <td>0.981600</td>\n",
       "      <td>6.375000</td>\n",
       "      <td>4.875000</td>\n",
       "      <td>34.000000</td>\n",
       "      <td>6.250000</td>\n",
       "    </tr>\n",
       "  </tbody>\n",
       "</table>\n",
       "</div>"
      ],
      "text/plain": [
       "       stock_news_vader_neg  stock_news_vader_pos  stock_news_vader_neu  \\\n",
       "count         288565.000000         288565.000000         288565.000000   \n",
       "mean               0.075769              0.118148              0.806077   \n",
       "std                0.096249              0.102844              0.125081   \n",
       "min                0.000000              0.000000              0.189000   \n",
       "25%                0.000000              0.000000              0.718000   \n",
       "50%                0.044000              0.099000              0.814000   \n",
       "75%                0.129000              0.180000              0.906000   \n",
       "max                0.695000              0.811000              1.000000   \n",
       "\n",
       "       stock_news_vader_compound  stock_news_wordnet_pos  \\\n",
       "count              288565.000000           288565.000000   \n",
       "mean                    0.144212                0.761158   \n",
       "std                     0.515180                0.609514   \n",
       "min                    -0.986700                0.000000   \n",
       "25%                    -0.226300                0.250000   \n",
       "50%                     0.202300                0.625000   \n",
       "75%                     0.585900                1.125000   \n",
       "max                     0.981600                6.375000   \n",
       "\n",
       "       stock_news_wordnet_neg  stock_news_wordnet_obj  \\\n",
       "count           288565.000000           288565.000000   \n",
       "mean                 0.626431               18.897681   \n",
       "std                  0.587094                3.922670   \n",
       "min                  0.000000                0.000000   \n",
       "25%                  0.125000               16.625000   \n",
       "50%                  0.500000               19.125000   \n",
       "75%                  1.000000               21.500000   \n",
       "max                  4.875000               34.000000   \n",
       "\n",
       "       stock_news_wordnet_total  \n",
       "count             288565.000000  \n",
       "mean                   0.134727  \n",
       "std                    0.777437  \n",
       "min                   -4.375000  \n",
       "25%                   -0.250000  \n",
       "50%                    0.125000  \n",
       "75%                    0.625000  \n",
       "max                    6.250000  "
      ]
     },
     "execution_count": 9,
     "metadata": {},
     "output_type": "execute_result"
    }
   ],
   "source": [
    "df.describe()"
   ]
  },
  {
   "cell_type": "code",
   "execution_count": 10,
   "id": "9b977aa8",
   "metadata": {},
   "outputs": [
    {
     "data": {
      "image/png": "[encoded data removed]",
      "text/plain": [
       "<Figure size 1080x360 with 3 Axes>"
      ]
     },
     "metadata": {
      "needs_background": "light"
     },
     "output_type": "display_data"
    }
   ],
   "source": [
    "plt.figure(figsize = (15,5))\n",
    "plt.subplot(131)\n",
    "plt.hist(df['stock_news_vader_neg'], \n",
    "         50, \n",
    "         color = 'r', \n",
    "         edgecolor = 'black',\n",
    "         alpha=0.75,)\n",
    "plt.xlabel('Negative Score')\n",
    "plt.title('Stock News')\n",
    "plt.grid(True)\n",
    "plt.subplot(132)\n",
    "plt.hist(df['stock_news_vader_pos'], \n",
    "         50, \n",
    "         color='g',\n",
    "         edgecolor = 'black', \n",
    "         alpha=0.75,)\n",
    "plt.xlabel('Positive Score')\n",
    "plt.title('Stock News')\n",
    "plt.grid(True)\n",
    "plt.subplot(133)\n",
    "plt.hist(df['stock_news_vader_compound'], \n",
    "         50, \n",
    "         color='b',\n",
    "         edgecolor = 'black', \n",
    "         alpha=0.75)\n",
    "plt.xlabel('Compound Score')\n",
    "plt.title('Stock News')\n",
    "plt.grid(True)\n",
    "plt.show()"
   ]
  },
  {
   "cell_type": "code",
   "execution_count": 11,
   "id": "e10665c8",
   "metadata": {},
   "outputs": [
    {
     "data": {
      "image/png": "[encoded data removed]",
      "text/plain": [
       "<Figure size 1080x360 with 3 Axes>"
      ]
     },
     "metadata": {
      "needs_background": "light"
     },
     "output_type": "display_data"
    }
   ],
   "source": [
    "plt.figure(figsize = (15,5))\n",
    "plt.subplot(131)\n",
    "plt.hist(df['stock_news_wordnet_neg'], \n",
    "         50, \n",
    "         color = 'r', \n",
    "         edgecolor = 'black',\n",
    "         alpha=0.75,)\n",
    "plt.xlabel('Negative Score')\n",
    "plt.title('Stock News')\n",
    "plt.grid(True)\n",
    "plt.subplot(132)\n",
    "plt.hist(df['stock_news_wordnet_pos'], \n",
    "         50, \n",
    "         color='g',\n",
    "         edgecolor = 'black', \n",
    "         alpha=0.75,)\n",
    "plt.xlabel('Positive Score')\n",
    "plt.title('Stock News')\n",
    "plt.grid(True)\n",
    "plt.subplot(133)\n",
    "plt.hist(df['stock_news_wordnet_total'], \n",
    "         50, \n",
    "         color='b',\n",
    "         edgecolor = 'black', \n",
    "         alpha=0.75)\n",
    "plt.xlabel('Compound Score')\n",
    "plt.title('Stock News')\n",
    "plt.grid(True)\n",
    "plt.show()"
   ]
  },
  {
   "cell_type": "code",
   "execution_count": 13,
   "id": "b49595d6",
   "metadata": {},
   "outputs": [
    {
     "name": "stdout",
     "output_type": "stream",
     "text": [
      "<class 'pandas.core.frame.DataFrame'>\n",
      "Int64Index: 268723 entries, 0 to 540\n",
      "Data columns (total 15 columns):\n",
      " #   Column                     Non-Null Count   Dtype         \n",
      "---  ------                     --------------   -----         \n",
      " 0   symbol                     268723 non-null  object        \n",
      " 1   Date                       268723 non-null  datetime64[ns]\n",
      " 2   article_title              268723 non-null  object        \n",
      " 3   article_abstract           268723 non-null  object        \n",
      " 4   article_concat             268723 non-null  object        \n",
      " 5   article_concat_pos_tag     268723 non-null  object        \n",
      " 6   article_concat_lemma       268723 non-null  object        \n",
      " 7   stock_news_vader_neg       268723 non-null  float64       \n",
      " 8   stock_news_vader_pos       268723 non-null  float64       \n",
      " 9   stock_news_vader_neu       268723 non-null  float64       \n",
      " 10  stock_news_vader_compound  268723 non-null  float64       \n",
      " 11  stock_news_wordnet_pos     268723 non-null  float64       \n",
      " 12  stock_news_wordnet_neg     268723 non-null  float64       \n",
      " 13  stock_news_wordnet_obj     268723 non-null  float64       \n",
      " 14  stock_news_wordnet_total   268723 non-null  float64       \n",
      "dtypes: datetime64[ns](1), float64(8), object(6)\n",
      "memory usage: 32.8+ MB\n"
     ]
    }
   ],
   "source": [
    "df.info()"
   ]
  },
  {
   "cell_type": "code",
   "execution_count": 10,
   "id": "d459f397",
   "metadata": {
    "ExecuteTime": {
     "end_time": "2021-09-08T13:52:37.808098Z",
     "start_time": "2021-09-08T13:52:37.766922Z"
    }
   },
   "outputs": [
    {
     "data": {
      "text/html": [
       "<div>\n",
       "<style scoped>\n",
       "    .dataframe tbody tr th:only-of-type {\n",
       "        vertical-align: middle;\n",
       "    }\n",
       "\n",
       "    .dataframe tbody tr th {\n",
       "        vertical-align: top;\n",
       "    }\n",
       "\n",
       "    .dataframe thead th {\n",
       "        text-align: right;\n",
       "    }\n",
       "</style>\n",
       "<table border=\"1\" class=\"dataframe\">\n",
       "  <thead>\n",
       "    <tr style=\"text-align: right;\">\n",
       "      <th></th>\n",
       "      <th>symbol</th>\n",
       "      <th>Date</th>\n",
       "      <th>count</th>\n",
       "    </tr>\n",
       "  </thead>\n",
       "  <tbody>\n",
       "    <tr>\n",
       "      <th>0</th>\n",
       "      <td>A</td>\n",
       "      <td>2015-11-16</td>\n",
       "      <td>1</td>\n",
       "    </tr>\n",
       "    <tr>\n",
       "      <th>1</th>\n",
       "      <td>A</td>\n",
       "      <td>2016-07-28</td>\n",
       "      <td>1</td>\n",
       "    </tr>\n",
       "    <tr>\n",
       "      <th>2</th>\n",
       "      <td>A</td>\n",
       "      <td>2016-08-01</td>\n",
       "      <td>1</td>\n",
       "    </tr>\n",
       "    <tr>\n",
       "      <th>3</th>\n",
       "      <td>A</td>\n",
       "      <td>2016-08-18</td>\n",
       "      <td>1</td>\n",
       "    </tr>\n",
       "    <tr>\n",
       "      <th>4</th>\n",
       "      <td>A</td>\n",
       "      <td>2016-11-15</td>\n",
       "      <td>1</td>\n",
       "    </tr>\n",
       "    <tr>\n",
       "      <th>...</th>\n",
       "      <td>...</td>\n",
       "      <td>...</td>\n",
       "      <td>...</td>\n",
       "    </tr>\n",
       "    <tr>\n",
       "      <th>124340</th>\n",
       "      <td>ZTS</td>\n",
       "      <td>2021-07-22</td>\n",
       "      <td>1</td>\n",
       "    </tr>\n",
       "    <tr>\n",
       "      <th>124341</th>\n",
       "      <td>ZTS</td>\n",
       "      <td>2021-07-30</td>\n",
       "      <td>1</td>\n",
       "    </tr>\n",
       "    <tr>\n",
       "      <th>124342</th>\n",
       "      <td>ZTS</td>\n",
       "      <td>2021-08-04</td>\n",
       "      <td>1</td>\n",
       "    </tr>\n",
       "    <tr>\n",
       "      <th>124343</th>\n",
       "      <td>ZTS</td>\n",
       "      <td>2021-08-05</td>\n",
       "      <td>2</td>\n",
       "    </tr>\n",
       "    <tr>\n",
       "      <th>124344</th>\n",
       "      <td>ZTS</td>\n",
       "      <td>2021-08-06</td>\n",
       "      <td>2</td>\n",
       "    </tr>\n",
       "  </tbody>\n",
       "</table>\n",
       "<p>124345 rows × 3 columns</p>\n",
       "</div>"
      ],
      "text/plain": [
       "       symbol       Date  count\n",
       "0           A 2015-11-16      1\n",
       "1           A 2016-07-28      1\n",
       "2           A 2016-08-01      1\n",
       "3           A 2016-08-18      1\n",
       "4           A 2016-11-15      1\n",
       "...       ...        ...    ...\n",
       "124340    ZTS 2021-07-22      1\n",
       "124341    ZTS 2021-07-30      1\n",
       "124342    ZTS 2021-08-04      1\n",
       "124343    ZTS 2021-08-05      2\n",
       "124344    ZTS 2021-08-06      2\n",
       "\n",
       "[124345 rows x 3 columns]"
      ]
     },
     "execution_count": 10,
     "metadata": {},
     "output_type": "execute_result"
    }
   ],
   "source": [
    "df.groupby(['symbol', 'Date']).size().reset_index(name='count')"
   ]
  },
  {
   "cell_type": "code",
   "execution_count": 16,
   "id": "c46e12c6",
   "metadata": {},
   "outputs": [
    {
     "data": {
      "text/html": [
       "<div>\n",
       "<style scoped>\n",
       "    .dataframe tbody tr th:only-of-type {\n",
       "        vertical-align: middle;\n",
       "    }\n",
       "\n",
       "    .dataframe tbody tr th {\n",
       "        vertical-align: top;\n",
       "    }\n",
       "\n",
       "    .dataframe thead th {\n",
       "        text-align: right;\n",
       "    }\n",
       "</style>\n",
       "<table border=\"1\" class=\"dataframe\">\n",
       "  <thead>\n",
       "    <tr style=\"text-align: right;\">\n",
       "      <th></th>\n",
       "      <th>symbol</th>\n",
       "      <th>Date</th>\n",
       "      <th>stock_news_vader_neg</th>\n",
       "      <th>stock_news_vader_pos</th>\n",
       "      <th>stock_news_vader_neu</th>\n",
       "      <th>stock_news_vader_compound</th>\n",
       "      <th>stock_news_wordnet_pos</th>\n",
       "      <th>stock_news_wordnet_neg</th>\n",
       "      <th>stock_news_wordnet_obj</th>\n",
       "      <th>stock_news_wordnet_total</th>\n",
       "    </tr>\n",
       "  </thead>\n",
       "  <tbody>\n",
       "    <tr>\n",
       "      <th>0</th>\n",
       "      <td>A</td>\n",
       "      <td>2021-07-29</td>\n",
       "      <td>0.000</td>\n",
       "      <td>0.241</td>\n",
       "      <td>0.759</td>\n",
       "      <td>0.5719</td>\n",
       "      <td>1.500</td>\n",
       "      <td>1.250</td>\n",
       "      <td>15.250</td>\n",
       "      <td>0.250</td>\n",
       "    </tr>\n",
       "    <tr>\n",
       "      <th>1</th>\n",
       "      <td>A</td>\n",
       "      <td>2021-07-13</td>\n",
       "      <td>0.116</td>\n",
       "      <td>0.000</td>\n",
       "      <td>0.884</td>\n",
       "      <td>-0.4404</td>\n",
       "      <td>1.500</td>\n",
       "      <td>1.625</td>\n",
       "      <td>16.875</td>\n",
       "      <td>-0.125</td>\n",
       "    </tr>\n",
       "    <tr>\n",
       "      <th>2</th>\n",
       "      <td>A</td>\n",
       "      <td>2021-07-12</td>\n",
       "      <td>0.000</td>\n",
       "      <td>0.087</td>\n",
       "      <td>0.913</td>\n",
       "      <td>0.2960</td>\n",
       "      <td>2.125</td>\n",
       "      <td>0.625</td>\n",
       "      <td>14.250</td>\n",
       "      <td>1.500</td>\n",
       "    </tr>\n",
       "    <tr>\n",
       "      <th>3</th>\n",
       "      <td>A</td>\n",
       "      <td>2021-06-25</td>\n",
       "      <td>0.058</td>\n",
       "      <td>0.096</td>\n",
       "      <td>0.846</td>\n",
       "      <td>0.2500</td>\n",
       "      <td>0.875</td>\n",
       "      <td>1.000</td>\n",
       "      <td>17.125</td>\n",
       "      <td>-0.125</td>\n",
       "    </tr>\n",
       "    <tr>\n",
       "      <th>4</th>\n",
       "      <td>A</td>\n",
       "      <td>2021-06-04</td>\n",
       "      <td>0.062</td>\n",
       "      <td>0.276</td>\n",
       "      <td>0.662</td>\n",
       "      <td>0.6692</td>\n",
       "      <td>1.125</td>\n",
       "      <td>0.250</td>\n",
       "      <td>13.625</td>\n",
       "      <td>0.875</td>\n",
       "    </tr>\n",
       "  </tbody>\n",
       "</table>\n",
       "</div>"
      ],
      "text/plain": [
       "  symbol       Date  stock_news_vader_neg  stock_news_vader_pos  \\\n",
       "0      A 2021-07-29                 0.000                 0.241   \n",
       "1      A 2021-07-13                 0.116                 0.000   \n",
       "2      A 2021-07-12                 0.000                 0.087   \n",
       "3      A 2021-06-25                 0.058                 0.096   \n",
       "4      A 2021-06-04                 0.062                 0.276   \n",
       "\n",
       "   stock_news_vader_neu  stock_news_vader_compound  stock_news_wordnet_pos  \\\n",
       "0                 0.759                     0.5719                   1.500   \n",
       "1                 0.884                    -0.4404                   1.500   \n",
       "2                 0.913                     0.2960                   2.125   \n",
       "3                 0.846                     0.2500                   0.875   \n",
       "4                 0.662                     0.6692                   1.125   \n",
       "\n",
       "   stock_news_wordnet_neg  stock_news_wordnet_obj  stock_news_wordnet_total  \n",
       "0                   1.250                  15.250                     0.250  \n",
       "1                   1.625                  16.875                    -0.125  \n",
       "2                   0.625                  14.250                     1.500  \n",
       "3                   1.000                  17.125                    -0.125  \n",
       "4                   0.250                  13.625                     0.875  "
      ]
     },
     "execution_count": 16,
     "metadata": {},
     "output_type": "execute_result"
    }
   ],
   "source": [
    "df[['symbol', 'Date', \n",
    "    'stock_news_vader_neg', 'stock_news_vader_pos', 'stock_news_vader_neu', 'stock_news_vader_compound',\n",
    "    'stock_news_wordnet_pos', 'stock_news_wordnet_neg', 'stock_news_wordnet_obj', 'stock_news_wordnet_total']] \\\n",
    ".head()"
   ]
  },
  {
   "cell_type": "code",
   "execution_count": 12,
   "id": "0f78b492",
   "metadata": {
    "ExecuteTime": {
     "end_time": "2021-09-08T13:56:55.672270Z",
     "start_time": "2021-09-08T13:56:54.644709Z"
    }
   },
   "outputs": [],
   "source": [
    "df.groupby(['symbol', 'Date']) \\\n",
    "    .agg(stock_news_in_day=('Date', 'count'),\n",
    "         stock_news_vader_neg=('stock_news_vader_neg', 'sum'),\n",
    "         stock_news_vader_pos=('stock_news_vader_pos', 'sum'),\n",
    "         stock_news_vader_neu=('stock_news_vader_neu', 'sum'),\n",
    "         stock_news_vader_compound=('stock_news_vader_compound', 'sum'),\n",
    "         stock_news_wordnet_pos=('stock_news_wordnet_pos', 'sum'),\n",
    "         stock_news_wordnet_neg=('stock_news_wordnet_neg', 'sum'),\n",
    "         stock_news_wordnet_obj=('stock_news_wordnet_obj', 'sum'),\n",
    "         stock_news_wordnet_total=('stock_news_wordnet_total', 'sum'),) \\\n",
    "    .reset_index() \\\n",
    "    .to_csv('./exported_data/news_sentiment_analysis/us_stock_news_sentiment_analysis.csv', index=False)"
   ]
  },
  {
   "cell_type": "code",
   "execution_count": null,
   "id": "e0d33216",
   "metadata": {},
   "outputs": [],
   "source": []
  }
 ],
 "metadata": {
  "kernelspec": {
   "display_name": "Python 3",
   "language": "python",
   "name": "python3"
  },
  "language_info": {
   "codemirror_mode": {
    "name": "ipython",
    "version": 3
   },
   "file_extension": ".py",
   "mimetype": "text/x-python",
   "name": "python",
   "nbconvert_exporter": "python",
   "pygments_lexer": "ipython3",
   "version": "3.9.4"
  },
  "toc": {
   "base_numbering": 1,
   "nav_menu": {},
   "number_sections": true,
   "sideBar": true,
   "skip_h1_title": false,
   "title_cell": "Table of Contents",
   "title_sidebar": "Contents",
   "toc_cell": false,
   "toc_position": {},
   "toc_section_display": true,
   "toc_window_display": false
  }
 },
 "nbformat": 4,
 "nbformat_minor": 5
}
